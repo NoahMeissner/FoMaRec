{
 "cells": [
  {
   "cell_type": "markdown",
   "id": "01193016",
   "metadata": {},
   "source": [
    "### Zutaten zuweisen"
   ]
  },
  {
   "cell_type": "code",
   "execution_count": null,
   "id": "5bc0efbb",
   "metadata": {},
   "outputs": [],
   "source": [
    "%pip install -U sentence-transformers\n",
    "%pip install python-Levenshtein\n",
    "%pip install unidecode"
   ]
  },
  {
   "cell_type": "code",
   "execution_count": null,
   "id": "a303c69e",
   "metadata": {},
   "outputs": [
    {
     "name": "stderr",
     "output_type": "stream",
     "text": [
      "/Users/noah/Documents/github/MultiAgentBiase/Project/venv/lib/python3.11/site-packages/tqdm/auto.py:21: TqdmWarning: IProgress not found. Please update jupyter and ipywidgets. See https://ipywidgets.readthedocs.io/en/stable/user_install.html\n",
      "  from .autonotebook import tqdm as notebook_tqdm\n"
     ]
    }
   ],
   "source": [
    "import pandas as pd\n",
    "from train_ner import train_model, test_model\n",
    "from request.Loader.load_annotation import load_dataset\n",
    "from request.request_gemini import request\n",
    "from request.request_gpt import chat_with_openai\n",
    "import pandas as pd\n",
    "from DataLoader_Ingredients import DataLoader\n",
    "from enum import Enum\n",
    "from prompts import ingredients_extraction\n",
    "import json\n",
    "import os\n",
    "import ast\n",
    "from tqdm import tqdm\n",
    "import re\n",
    "from Evaluation.kappa_comparison import evaluate_annotations\n",
    "from request.recipe_api import request_api\n",
    "from request.request_modern_bert import Bert\n",
    "from data_structure.DataType import DataType\n",
    "\n",
    "from sentence_transformers import SentenceTransformer, util\n",
    "import numpy as np\n",
    "from data_structure.model_name import ModelName\n",
    "from request.Loader.load_normalization import load_response, save_response\n",
    "from prompts import ingredients_normalization\n",
    "from data_structure.paths import NOR_EVAL\n",
    "from request.Loader.load_ner import ner_loader"
   ]
  },
  {
   "cell_type": "code",
   "execution_count": 2,
   "id": "66f620a7",
   "metadata": {},
   "outputs": [
    {
     "name": "stdout",
     "output_type": "stream",
     "text": [
      "{'error': {'code': 400, 'message': 'API key not valid. Please pass a valid API key.', 'status': 'INVALID_ARGUMENT', 'details': [{'@type': 'type.googleapis.com/google.rpc.ErrorInfo', 'reason': 'API_KEY_INVALID', 'domain': 'googleapis.com', 'metadata': {'service': 'generativelanguage.googleapis.com'}}, {'@type': 'type.googleapis.com/google.rpc.LocalizedMessage', 'locale': 'en-US', 'message': 'API key not valid. Please pass a valid API key.'}]}}\n",
      "API Error: { 'candidates' }\n"
     ]
    }
   ],
   "source": [
    "request(\"Hello Gemini\")"
   ]
  },
  {
   "cell_type": "code",
   "execution_count": 3,
   "id": "80b2dd6c",
   "metadata": {},
   "outputs": [],
   "source": [
    "dataset = ner_loader(ModelName.Dataset,DataType.train)"
   ]
  },
  {
   "cell_type": "code",
   "execution_count": 4,
   "id": "4ecff752",
   "metadata": {},
   "outputs": [
    {
     "name": "stdout",
     "output_type": "stream",
     "text": [
      "16995\n"
     ]
    }
   ],
   "source": [
    "ingredients = []\n",
    "\n",
    "for item in dataset:\n",
    "    for key, value in item.items():\n",
    "        for entity in value.get('entities', []):\n",
    "            if isinstance(entity, list) and len(entity) == 2 and entity[1] == 'Ingredients':\n",
    "                ingredients.append(entity[0])\n",
    "\n",
    "print(len(set(ingredients)))\n"
   ]
  },
  {
   "cell_type": "code",
   "execution_count": 5,
   "id": "7d0d2712",
   "metadata": {},
   "outputs": [],
   "source": [
    "train = set(ingredients)"
   ]
  },
  {
   "cell_type": "code",
   "execution_count": 6,
   "id": "3bbb5b5a",
   "metadata": {},
   "outputs": [],
   "source": [
    "prompt = ingredients_normalization.prompt_ingredients_normalization"
   ]
  },
  {
   "cell_type": "code",
   "execution_count": 7,
   "id": "343d8bc7",
   "metadata": {},
   "outputs": [
    {
     "name": "stdout",
     "output_type": "stream",
     "text": [
      "\n",
      "    You are a normalization system, to classify Ingredients to their normal ingredients\n",
      "    you should classify following ingredients\n",
      "    Ingredients = {$DATA$}\n",
      "    Here are a few examples:\n",
      "    haselnusskrokant -> ('haselnusskrokant':'haselnuss'),\n",
      "    tk-pizza -> ('tk-pizza':'pizza'),\n",
      "    rot-schwarzesjohannisbeergelee - > ('rot-schwarzesjohannisbeergelee':'johannisbeergelee')\n",
      "    schweinesteks -> ('schweinesteks':'schweinesteks')\n",
      "    oliveöl -> ('oliveöl','olivenöl')\n",
      "    OutputFormat:\n",
      "    [\n",
      "        {'LINEOFText':'Normalization'},\n",
      "        {'LINEOFText':'Normalization'},\n",
      "    ]\n",
      "    PLEASE RESPOND ONLY IN THE OUPTPUTFORMAT!\n",
      "    USE STRICT THE RULES ABOVE!\n",
      "\n"
     ]
    }
   ],
   "source": [
    "print(prompt)"
   ]
  },
  {
   "cell_type": "code",
   "execution_count": 8,
   "id": "055ac9ce",
   "metadata": {},
   "outputs": [],
   "source": [
    "def pack_twenty(data):\n",
    "    return [data[i:i+20] for i in range(0, len(data), 20)]"
   ]
  },
  {
   "cell_type": "code",
   "execution_count": 9,
   "id": "bc7180d8",
   "metadata": {},
   "outputs": [],
   "source": [
    "def clean_model_output(str):\n",
    "    match = re.search(r'\\[(.*)\\]', str, re.DOTALL)\n",
    "    if match:\n",
    "        cleaned_json = \"[\" + match.group(1).strip() + \"]\"\n",
    "    try:\n",
    "        parsed_data = ast.literal_eval(cleaned_json)\n",
    "        return parsed_data\n",
    "    except Exception as e:\n",
    "        print(\"Fehler beim Parsen:\", e)"
   ]
  },
  {
   "cell_type": "code",
   "execution_count": 56,
   "id": "ff34208c",
   "metadata": {},
   "outputs": [
    {
     "name": "stdout",
     "output_type": "stream",
     "text": [
      "{'error': {'code': 400, 'message': 'API key not valid. Please pass a valid API key.', 'status': 'INVALID_ARGUMENT', 'details': [{'@type': 'type.googleapis.com/google.rpc.ErrorInfo', 'reason': 'API_KEY_INVALID', 'domain': 'googleapis.com', 'metadata': {'service': 'generativelanguage.googleapis.com'}}, {'@type': 'type.googleapis.com/google.rpc.LocalizedMessage', 'locale': 'en-US', 'message': 'API key not valid. Please pass a valid API key.'}]}}\n",
      "API Error: { 'candidates' }\n"
     ]
    }
   ],
   "source": [
    "request('HelloGemini')"
   ]
  },
  {
   "cell_type": "code",
   "execution_count": 11,
   "id": "c93b37cb",
   "metadata": {},
   "outputs": [],
   "source": [
    "if not os.path.exists(NOR_EVAL/\"Gemini.json\"):\n",
    "    packages = pack_twenty(list(train))\n",
    "    res = []\n",
    "    for p in packages:\n",
    "        try:\n",
    "            new_prompt = prompt.replace(\"$DATA$\", str(p))\n",
    "            res.extend(clean_model_output(request(new_prompt)))\n",
    "        except Exception as e:\n",
    "            print(\"Model Error:\", e)\n",
    "    save_response(ModelName.Gemini,DataType.eval,res)"
   ]
  },
  {
   "cell_type": "markdown",
   "id": "69230bfc",
   "metadata": {},
   "source": [
    "##  Pipeline"
   ]
  },
  {
   "cell_type": "code",
   "execution_count": 12,
   "id": "298b76e2",
   "metadata": {},
   "outputs": [
    {
     "data": {
      "text/plain": [
       "[{'baumnuss': 'walnuss'},\n",
       " {'saint - albray': 'saint albray'},\n",
       " {'meerrettichwurzel': 'meerrettich'},\n",
       " {'tlkreuzkümmel': 'kreuzkümmel'},\n",
       " {'currybutter': 'currybutter'},\n",
       " {'weisser balsamico-essig': 'balsamicoessig'},\n",
       " {'weißwein oder proseco': 'weißwein'},\n",
       " {'lachs steak': 'lachssteak'},\n",
       " {'frische himbeeren odertk-himbeeren': 'himbeeren'},\n",
       " {'basilikumals deko': 'basilikum'},\n",
       " {'penne al peperoncino': 'penne'},\n",
       " {'fuer die farce': 'farce'},\n",
       " {'/braunkäse)': 'braunkäse'},\n",
       " {'steinbeisserfilets': 'steinbeisserfilet'},\n",
       " {'eierlikör dessert-cremefür': 'eierlikör'},\n",
       " {'erdnußöl': 'erdnussöl'},\n",
       " {'korianderzweige': 'koriander'},\n",
       " {'mini-cocktail-würstchen': 'cocktailwürstchen'},\n",
       " {'campignons': 'champignons'},\n",
       " {'aprikosenjoghurt': 'aprikosenjoghurt'},\n",
       " {'taco maisschalen': 'taco schalen'},\n",
       " {'klarer gemüsebrühe': 'gemüsebrühe'},\n",
       " {'sahnevanillepudding': 'vanillepudding'},\n",
       " {'schokolade - dekorherzen': 'schokolade'},\n",
       " {'mandelaroma': 'mandelaroma'},\n",
       " {'schoko- bzw. kokosraspeln': 'schokoraspeln'},\n",
       " {'cabernet sauvignon': 'rotwein'},\n",
       " {'hellen teig': 'teig'},\n",
       " {'granatapfeldressing': 'granatapfeldressing'},\n",
       " {'ebly zartweizen': 'zartweizen'},\n",
       " {'baguettebrot': 'baguette'},\n",
       " {'mittelgroße rotepaprikaschote': 'paprika'},\n",
       " {':olivenöl': 'olivenöl'},\n",
       " {'remulade': 'remulade'},\n",
       " {'salz, chilli, knoblauch,evtl zwiebelpulver fürjene, die keine zwiebelmögen': 'gewürzmischung'},\n",
       " {'fisolen': 'grüne bohnen'},\n",
       " {'zimt- zucker oderpuderzucker': 'zimt und zucker'},\n",
       " {'neue kartoffeln': 'kartoffeln'},\n",
       " {'schweinekamm oder kotelettohne knochen': 'schweinefleisch'},\n",
       " {'trinkschokolade': 'kakao'},\n",
       " {'speckwürfeli': 'speck'},\n",
       " {'tk grünkohl': 'grünkohl'},\n",
       " {'creme frech': 'crème fraîche'},\n",
       " {'ganze haselnüsse': 'haselnüsse'},\n",
       " {'zutaten für den dip': 'dip'},\n",
       " {'sauerquark': 'quark'},\n",
       " {'italienoischen speck': 'speck'},\n",
       " {'mehlige kochende kartoffeln': 'kartoffeln'},\n",
       " {'doppelrahm-frischkäse': 'frischkäse'},\n",
       " {'die marinade': 'marinade'},\n",
       " {'salz, pfeffer  muskat': 'gewürze'},\n",
       " {'unbehandelte orange': 'orange'},\n",
       " {'zucker und zimt': 'zucker und zimt'},\n",
       " {'cervelatwurst': 'cervelatwurst'},\n",
       " {'salz,pfeffer, majoran': 'gewürze'},\n",
       " {'kräftiger essig': 'essig'},\n",
       " {'feto oder anderer veganerfeta/tofukäse': 'veganer feta/tofu käse'},\n",
       " {'starker espresso': 'espresso'},\n",
       " {'quebrado - chiliflocken': 'chiliflocken'},\n",
       " {'blattsalat.radicchio oderfeldsalat': 'salat'}]"
      ]
     },
     "execution_count": 12,
     "metadata": {},
     "output_type": "execute_result"
    }
   ],
   "source": [
    "data =  load_response(ModelName.Gemini,DataType.eval)\n",
    "data = data[:60]\n",
    "data"
   ]
  },
  {
   "cell_type": "code",
   "execution_count": null,
   "id": "b465a738",
   "metadata": {},
   "outputs": [],
   "source": [
    "raw_ingredients = [list(obj.keys())[0] for obj in data]\n",
    "\n",
    "def clean_ingredient(text):\n",
    "    text = re.sub(r'\\d+\\s*%', '', text)\n",
    "    text = re.sub(r'\\b\\d+\\b', '', text)\n",
    "    text = re.sub(r'tl', '', text)\n",
    "    text = re.sub(r'tk', '', text)\n",
    "    text = re.sub(r'[^a-zA-ZäöüÄÖÜß\\s]', '', text)\n",
    "    text = re.sub(r'\\s+', ' ', text)\n",
    "    return text.strip().lower()\n",
    "raw_ingredients = [clean_ingredient(text) for text in raw_ingredients]\n"
   ]
  },
  {
   "cell_type": "code",
   "execution_count": 14,
   "id": "055de850",
   "metadata": {},
   "outputs": [
    {
     "data": {
      "text/plain": [
       "['baumnuss',\n",
       " 'saint albray',\n",
       " 'meerrettichwurzel',\n",
       " 'kreuzkümmel',\n",
       " 'currybutter',\n",
       " 'weisser balsamicoessig',\n",
       " 'weißwein | proseco',\n",
       " 'lachs steak',\n",
       " 'himbeeren | himbeeren',\n",
       " 'basilikum deko',\n",
       " 'penne al peperoncino',\n",
       " 'fuer die farce',\n",
       " 'braunkäse',\n",
       " 'steinbeisserfilets',\n",
       " 'eierlikör dessertcremefür',\n",
       " 'erdnußöl',\n",
       " 'korianderzweige',\n",
       " 'minicocktailwürstchen',\n",
       " 'campignons',\n",
       " 'aprikosenjoghurt',\n",
       " 'taco maisschalen',\n",
       " 'klarer gemüsebrühe',\n",
       " 'sahnevanillepudding',\n",
       " 'schokolade dekorherzen',\n",
       " 'mandelaroma',\n",
       " 'schoko kokosraspeln',\n",
       " 'cabernet sauvignon',\n",
       " 'hellen teig',\n",
       " 'granatapfeldressing',\n",
       " 'ebly zartweizen',\n",
       " 'baguettebrot',\n",
       " 'mittelgroße rotepaprikaschote',\n",
       " 'olivenöl',\n",
       " 'remulade',\n",
       " 'salz chilli knoblauchev zwiebelpulver jene die keine zwiebelmögen',\n",
       " 'fisolen',\n",
       " 'zimt zucker | puderzucker',\n",
       " 'neue kartoffeln',\n",
       " 'schweinekamm | kotelett (WITHOUT) knochen',\n",
       " 'trinkschokolade',\n",
       " 'speckwürfeli',\n",
       " 'grünkohl',\n",
       " 'creme frech',\n",
       " 'ganze haselnüsse',\n",
       " 'zutaten den dip',\n",
       " 'sauerquark',\n",
       " 'italienoischen speck',\n",
       " 'mehlige kochende kartoffeln',\n",
       " 'doppelrahmfrischkäse',\n",
       " 'die marinade',\n",
       " 'salz pfeffer muskat',\n",
       " 'unbehandelte orange',\n",
       " 'zucker & zimt',\n",
       " 'cervelatwurst',\n",
       " 'salzpfeffer majoran',\n",
       " 'essig',\n",
       " 'feto | anderer veganerfetatofukäse',\n",
       " 'starker espresso',\n",
       " 'quebrado chiliflocken',\n",
       " 'blattsalatradicchio | feldsalat']"
      ]
     },
     "execution_count": 14,
     "metadata": {},
     "output_type": "execute_result"
    }
   ],
   "source": [
    "def split_multiple_ingredients(item):\n",
    "    stopwords = ['und', 'oder', 'als',',', 'für', 'bzw','ohne','frische','frisch','kräftiger']\n",
    "    pattern = r'(?:(?<=\\s)(' + '|'.join(stopwords) + r')(?=\\s)|(?<=\\s)(' + '|'.join(stopwords) + r')|(' + '|'.join(stopwords) + r')(?=\\s)|,)'\n",
    "\n",
    "    parts = re.split(pattern, item)\n",
    "    buffer = []\n",
    "    for part in parts:\n",
    "        if part is None:\n",
    "            continue\n",
    "        p = part.strip()\n",
    "        if p.lower() == 'und':\n",
    "            buffer.append('&')\n",
    "        elif p.lower() == 'oder':\n",
    "            buffer.append('|')\n",
    "        elif p.lower() == 'ohne':\n",
    "            buffer.append('(WITHOUT)')\n",
    "        elif p.lower() in stopwords or p == ',':\n",
    "            continue\n",
    "        elif p:\n",
    "            buffer.append(p)\n",
    "    return (' '.join(buffer))\n",
    "ingredients = [split_multiple_ingredients(ing) for ing in raw_ingredients]\n",
    "ingredients"
   ]
  },
  {
   "cell_type": "code",
   "execution_count": 36,
   "id": "37beed20",
   "metadata": {},
   "outputs": [
    {
     "data": {
      "text/plain": [
       "[{'original': 'baumnuss', 'cleaned': 'baumnuss', 'spices': []},\n",
       " {'original': 'saint albray', 'cleaned': 'saint albray', 'spices': []},\n",
       " {'original': 'meerrettichwurzel',\n",
       "  'cleaned': 'meerrettichwurzel',\n",
       "  'spices': []},\n",
       " {'original': 'kreuzkümmel', 'cleaned': 'kreuzkümmel', 'spices': []},\n",
       " {'original': 'currybutter', 'cleaned': 'currybutter', 'spices': []},\n",
       " {'original': 'weisser balsamicoessig',\n",
       "  'cleaned': 'weisser balsamicoessig',\n",
       "  'spices': []},\n",
       " {'original': 'weißwein | proseco',\n",
       "  'cleaned': 'weißwein | proseco',\n",
       "  'spices': []},\n",
       " {'original': 'lachs steak', 'cleaned': 'lachs steak', 'spices': []},\n",
       " {'original': 'himbeeren | himbeeren',\n",
       "  'cleaned': 'himbeeren | himbeeren',\n",
       "  'spices': []},\n",
       " {'original': 'basilikum deko', 'cleaned': 'basilikum deko', 'spices': []},\n",
       " {'original': 'penne al peperoncino',\n",
       "  'cleaned': 'penne al peperoncino',\n",
       "  'spices': []},\n",
       " {'original': 'fuer die farce', 'cleaned': 'fuer die farce', 'spices': []},\n",
       " {'original': 'braunkäse', 'cleaned': 'braunkäse', 'spices': []},\n",
       " {'original': 'steinbeisserfilets',\n",
       "  'cleaned': 'steinbeisserfilets',\n",
       "  'spices': []},\n",
       " {'original': 'eierlikör dessertcremefür',\n",
       "  'cleaned': 'eierlikör dessertcremefür',\n",
       "  'spices': []},\n",
       " {'original': 'erdnußöl', 'cleaned': 'erdnußöl', 'spices': []},\n",
       " {'original': 'korianderzweige', 'cleaned': 'korianderzweige', 'spices': []},\n",
       " {'original': 'minicocktailwürstchen',\n",
       "  'cleaned': 'minicocktailwürstchen',\n",
       "  'spices': []},\n",
       " {'original': 'campignons', 'cleaned': 'campignons', 'spices': []},\n",
       " {'original': 'aprikosenjoghurt', 'cleaned': 'aprikosenjoghurt', 'spices': []},\n",
       " {'original': 'taco maisschalen', 'cleaned': 'taco maisschalen', 'spices': []},\n",
       " {'original': 'klarer gemüsebrühe',\n",
       "  'cleaned': 'klarer gemüsebrühe',\n",
       "  'spices': []},\n",
       " {'original': 'sahnevanillepudding',\n",
       "  'cleaned': 'sahnevanillepudding',\n",
       "  'spices': []},\n",
       " {'original': 'schokolade dekorherzen',\n",
       "  'cleaned': 'schokolade dekorherzen',\n",
       "  'spices': []},\n",
       " {'original': 'mandelaroma', 'cleaned': 'mandelaroma', 'spices': []},\n",
       " {'original': 'schoko kokosraspeln',\n",
       "  'cleaned': 'schoko kokosraspeln',\n",
       "  'spices': []},\n",
       " {'original': 'cabernet sauvignon',\n",
       "  'cleaned': 'cabernet sauvignon',\n",
       "  'spices': []},\n",
       " {'original': 'hellen teig', 'cleaned': 'hellen teig', 'spices': []},\n",
       " {'original': 'granatapfeldressing',\n",
       "  'cleaned': 'granatapfeldressing',\n",
       "  'spices': []},\n",
       " {'original': 'ebly zartweizen', 'cleaned': 'ebly zartweizen', 'spices': []},\n",
       " {'original': 'baguettebrot', 'cleaned': 'baguettebrot', 'spices': []},\n",
       " {'original': 'mittelgroße rotepaprikaschote',\n",
       "  'cleaned': 'mittelgroße rotepaprikaschote',\n",
       "  'spices': []},\n",
       " {'original': 'olivenöl', 'cleaned': 'olivenöl', 'spices': []},\n",
       " {'original': 'remulade', 'cleaned': 'remulade', 'spices': []},\n",
       " {'original': 'salz chilli knoblauchev zwiebelpulver jene die keine zwiebelmögen',\n",
       "  'cleaned': 'chilli knoblauchev zwiebelpulver jene die keine zwiebelmögen',\n",
       "  'spices': ['salz']},\n",
       " {'original': 'fisolen', 'cleaned': 'fisolen', 'spices': []},\n",
       " {'original': 'zimt zucker | puderzucker',\n",
       "  'cleaned': '| puderzucker',\n",
       "  'spices': ['zimt', 'zucker']},\n",
       " {'original': 'neue kartoffeln', 'cleaned': 'neue kartoffeln', 'spices': []},\n",
       " {'original': 'schweinekamm | kotelett (WITHOUT) knochen',\n",
       "  'cleaned': 'schweinekamm | kotelett (WITHOUT) knochen',\n",
       "  'spices': []},\n",
       " {'original': 'trinkschokolade', 'cleaned': 'trinkschokolade', 'spices': []},\n",
       " {'original': 'speckwürfeli', 'cleaned': 'speckwürfeli', 'spices': []},\n",
       " {'original': 'grünkohl', 'cleaned': 'grünkohl', 'spices': []},\n",
       " {'original': 'creme frech', 'cleaned': 'creme frech', 'spices': []},\n",
       " {'original': 'ganze haselnüsse', 'cleaned': 'ganze haselnüsse', 'spices': []},\n",
       " {'original': 'zutaten den dip', 'cleaned': 'zutaten den dip', 'spices': []},\n",
       " {'original': 'sauerquark', 'cleaned': 'sauerquark', 'spices': []},\n",
       " {'original': 'italienoischen speck',\n",
       "  'cleaned': 'italienoischen speck',\n",
       "  'spices': []},\n",
       " {'original': 'mehlige kochende kartoffeln',\n",
       "  'cleaned': 'mehlige kochende kartoffeln',\n",
       "  'spices': []},\n",
       " {'original': 'doppelrahmfrischkäse',\n",
       "  'cleaned': 'doppelrahmfrischkäse',\n",
       "  'spices': []},\n",
       " {'original': 'die marinade', 'cleaned': 'die marinade', 'spices': []},\n",
       " {'original': 'salz pfeffer muskat',\n",
       "  'cleaned': 'muskat',\n",
       "  'spices': ['salz', 'pfeffer']},\n",
       " {'original': 'unbehandelte orange',\n",
       "  'cleaned': 'unbehandelte orange',\n",
       "  'spices': []},\n",
       " {'original': 'zucker & zimt', 'cleaned': '&', 'spices': ['zucker', 'zimt']},\n",
       " {'original': 'cervelatwurst', 'cleaned': 'cervelatwurst', 'spices': []},\n",
       " {'original': 'salzpfeffer majoran',\n",
       "  'cleaned': 'salzpfeffer',\n",
       "  'spices': ['majoran']},\n",
       " {'original': 'essig', 'cleaned': 'essig', 'spices': []},\n",
       " {'original': 'feto | anderer veganerfetatofukäse',\n",
       "  'cleaned': 'feto | anderer veganerfetatofukäse',\n",
       "  'spices': []},\n",
       " {'original': 'starker espresso', 'cleaned': 'starker espresso', 'spices': []},\n",
       " {'original': 'quebrado chiliflocken',\n",
       "  'cleaned': 'quebrado chiliflocken',\n",
       "  'spices': []},\n",
       " {'original': 'blattsalatradicchio | feldsalat',\n",
       "  'cleaned': 'blattsalatradicchio | feldsalat',\n",
       "  'spices': []}]"
      ]
     },
     "execution_count": 36,
     "metadata": {},
     "output_type": "execute_result"
    }
   ],
   "source": [
    "def find_obvious_spices(item):\n",
    "    spices = ['salz', 'pfeffer', 'zucker', 'zimt', 'majoran']\n",
    "    pattern = r'\\b(' + '|'.join(spices) + r')\\b'\n",
    "    found = re.findall(pattern, item, re.IGNORECASE)\n",
    "    cleaned = re.sub(pattern, '', item, flags=re.IGNORECASE)\n",
    "    cleaned = re.sub(r'\\s+', ' ', cleaned).strip()\n",
    "    return {\n",
    "        'original': item,\n",
    "        'cleaned': cleaned,\n",
    "        'spices': list({f.lower() for f in found})\n",
    "    }\n",
    "\n",
    "ingredients_spices = [find_obvious_spices(ing) for ing in ingredients]\n",
    "ingredients_spices"
   ]
  },
  {
   "cell_type": "code",
   "execution_count": null,
   "id": "7741e21c",
   "metadata": {},
   "outputs": [],
   "source": []
  }
 ],
 "metadata": {
  "kernelspec": {
   "display_name": "venv",
   "language": "python",
   "name": "python3"
  },
  "language_info": {
   "codemirror_mode": {
    "name": "ipython",
    "version": 3
   },
   "file_extension": ".py",
   "mimetype": "text/x-python",
   "name": "python",
   "nbconvert_exporter": "python",
   "pygments_lexer": "ipython3",
   "version": "3.11.8"
  }
 },
 "nbformat": 4,
 "nbformat_minor": 5
}
