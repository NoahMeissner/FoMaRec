{
 "cells": [
  {
   "cell_type": "markdown",
   "id": "5643f5f1",
   "metadata": {},
   "source": [
    "# Named Entity Recognotion"
   ]
  },
  {
   "cell_type": "markdown",
   "id": "7230b6bf",
   "metadata": {},
   "source": [
    "Noah Meißner 18.05.2025"
   ]
  },
  {
   "cell_type": "markdown",
   "id": "e26d1b4e",
   "metadata": {},
   "source": [
    "This Jupyter Notebook analyse four different Named Entity Recognition possibilities, to see which fits best for this Use Case.\n",
    "\n",
    "We use:\n",
    "1. Handlabelling as Ground Truth\n",
    "2. ChatGPT 4o mini \n",
    "3. Gemini -- free version\n",
    "4. Spacy (train our own model)"
   ]
  },
  {
   "cell_type": "code",
   "execution_count": 14,
   "id": "23ee285c",
   "metadata": {},
   "outputs": [],
   "source": [
    "from train_ner import train_model, test_model\n",
    "from load_annotation import load_dataset\n",
    "from request_gemini import request\n",
    "from request_gpt import chat_with_openai\n",
    "import pandas as pd\n",
    "from DataLoader_Ingredients import DataLoader\n",
    "from enum import Enum\n",
    "from prompts import ingredients_extraction\n",
    "import json\n",
    "import os\n",
    "import ast\n",
    "import re"
   ]
  },
  {
   "cell_type": "markdown",
   "id": "e0b21c64",
   "metadata": {},
   "source": [
    "## Create Dataset"
   ]
  },
  {
   "cell_type": "code",
   "execution_count": 2,
   "id": "e9fd5e8c",
   "metadata": {},
   "outputs": [],
   "source": [
    "df_whole = pd.read_csv(\"Data/dataset.csv\")\n",
    "loader_obj = DataLoader(df_whole)\n",
    "train, test = loader_obj.get_set()"
   ]
  },
  {
   "cell_type": "markdown",
   "id": "a22a421f",
   "metadata": {},
   "source": [
    "## Analysis"
   ]
  },
  {
   "cell_type": "markdown",
   "id": "8c1464f6",
   "metadata": {},
   "source": [
    "We now analyse different approaches, starting with Gemini. We split the test Data in 20 ingredients per prompt, for less requests. For the Gemini and OpenAI approach we are using the same prompt, to evaluate the system model"
   ]
  },
  {
   "cell_type": "code",
   "execution_count": 3,
   "id": "f23f5049",
   "metadata": {},
   "outputs": [],
   "source": [
    "class DataType(Enum):\n",
    "    eval = \"Evaluation\"\n",
    "    train = \"Training\""
   ]
  },
  {
   "cell_type": "code",
   "execution_count": 4,
   "id": "3433c2c1",
   "metadata": {},
   "outputs": [],
   "source": [
    "def save_response(approach=\"ModelName\",type=DataType, data=[{}]):\n",
    "    path = f\"Data/Ingredients/{type.value}/{approach}.json\"\n",
    "    with open(path, \"w\", encoding=\"utf-8\") as f:\n",
    "        json.dump(data, f, indent=4, ensure_ascii=False)"
   ]
  },
  {
   "cell_type": "code",
   "execution_count": 12,
   "id": "59c67494",
   "metadata": {},
   "outputs": [],
   "source": [
    "def load_response(approach=\"ModelName\", type=DataType):\n",
    "    path = f\"Data/Ingredients/{type.value}/{approach}.json\"\n",
    "    try:\n",
    "        with open(path, \"r\", encoding=\"utf-8\") as f:\n",
    "            data = json.load(f)\n",
    "        return data\n",
    "    except FileNotFoundError:\n",
    "        print(f\"Datei nicht gefunden: {path}\")\n",
    "        return None\n",
    "    except json.JSONDecodeError as e:\n",
    "        print(f\"Fehler beim Parsen von JSON: {e}\")\n",
    "        return None"
   ]
  },
  {
   "cell_type": "code",
   "execution_count": 5,
   "id": "84faba48",
   "metadata": {},
   "outputs": [],
   "source": [
    "def pack_twenty(data):\n",
    "    return [data[i:i+20] for i in range(0, len(data), 20)]"
   ]
  },
  {
   "cell_type": "code",
   "execution_count": 6,
   "id": "357e2fa0",
   "metadata": {},
   "outputs": [],
   "source": [
    "prompt = ingredients_extraction.prompt_ingredients"
   ]
  },
  {
   "cell_type": "code",
   "execution_count": 7,
   "id": "cc0b5523",
   "metadata": {},
   "outputs": [],
   "source": [
    "def clean_model_output(str):\n",
    "    match = re.search(r'\\[(.*)\\]', str, re.DOTALL)\n",
    "    if match:\n",
    "        cleaned_json = \"[\" + match.group(1).strip() + \"]\"\n",
    "        print(cleaned_json)\n",
    "    fixed_string = re.sub(r'\\(([^()]+?)\\)', r'[\\1]', cleaned_json)\n",
    "    try:\n",
    "        parsed_data = ast.literal_eval(fixed_string)\n",
    "        return parsed_data\n",
    "    except Exception as e:\n",
    "        print(\"Fehler beim Parsen:\", e)\n"
   ]
  },
  {
   "cell_type": "markdown",
   "id": "13ac2d58",
   "metadata": {},
   "source": [
    "### Use Gemini"
   ]
  },
  {
   "cell_type": "code",
   "execution_count": 16,
   "id": "725e89c6",
   "metadata": {},
   "outputs": [],
   "source": [
    "if not os.path.exists(\"Data/Ingredients/Evaluation/Gemini.json\"):\n",
    "    packages = pack_twenty(test)\n",
    "    res = []\n",
    "    for p in packages:\n",
    "        try:\n",
    "            new_prompt = prompt.replace(\"$DATA$\", str(p))\n",
    "            res.extend(clean_model_output(request(new_prompt)))\n",
    "        except Exception as e:\n",
    "            print(\"Model Error:\", e)\n"
   ]
  },
  {
   "cell_type": "code",
   "execution_count": 13,
   "id": "9f73ba0c",
   "metadata": {},
   "outputs": [],
   "source": [
    "save_response(\"Gemini\",DataType.eval,res)"
   ]
  },
  {
   "cell_type": "markdown",
   "id": "1e5f8314",
   "metadata": {},
   "source": [
    "### GPT"
   ]
  },
  {
   "cell_type": "code",
   "execution_count": 15,
   "id": "75890b7b",
   "metadata": {},
   "outputs": [],
   "source": [
    "if not os.path.exists(\"Data/Ingredients/Evaluation/OpenAI.json\"):\n",
    "    packages = pack_twenty(test)\n",
    "    res = []\n",
    "    for p in packages:\n",
    "        try:\n",
    "            new_prompt = prompt.replace(\"$DATA$\", str(p))\n",
    "            res.extend(clean_model_output(chat_with_openai(new_prompt)))\n",
    "        except Exception as e:\n",
    "            print(\"Model Error:\", e)"
   ]
  },
  {
   "cell_type": "code",
   "execution_count": 10,
   "id": "512a0e7a",
   "metadata": {},
   "outputs": [],
   "source": [
    "save_response(\"OpenAI\",DataType.eval,res)"
   ]
  },
  {
   "cell_type": "markdown",
   "id": "58c14cc6",
   "metadata": {},
   "source": [
    "## Evaluation"
   ]
  },
  {
   "cell_type": "code",
   "execution_count": 13,
   "id": "ff2f6663",
   "metadata": {},
   "outputs": [],
   "source": [
    "openai_ann = load_response(\"OpenAI\",DataType.eval)\n",
    "gemini_ann = load_response(\"Gemini\",DataType.eval)"
   ]
  },
  {
   "cell_type": "code",
   "execution_count": 32,
   "id": "3a292f2a",
   "metadata": {},
   "outputs": [],
   "source": [
    "def make_one_dict(ls):\n",
    "    dict = {}\n",
    "    for value in ls:\n",
    "        key = list(value.keys())[0]\n",
    "        dict[key] = value[key]\n",
    "    return dict"
   ]
  },
  {
   "cell_type": "code",
   "execution_count": null,
   "id": "37e64273",
   "metadata": {},
   "outputs": [
    {
     "data": {
      "text/plain": [
       "{'250 gr.:schweinerücken': {'entities': [['250', 'Number'],\n",
       "   ['gr.', 'Units'],\n",
       "   ['schweinerücken', 'Ingredients']]}}"
      ]
     },
     "execution_count": 40,
     "metadata": {},
     "output_type": "execute_result"
    }
   ],
   "source": [
    "dict_gemini[0]"
   ]
  },
  {
   "cell_type": "code",
   "execution_count": 33,
   "id": "30ea748e",
   "metadata": {},
   "outputs": [],
   "source": [
    "dict_gemini = make_one_dict(gemini_ann)\n",
    "dict_open = make_one_dict(openai_ann)"
   ]
  },
  {
   "cell_type": "code",
   "execution_count": null,
   "id": "1e2fa920",
   "metadata": {},
   "outputs": [],
   "source": [
    "def compare(dict_one, dict_two):\n",
    "    entity_one = dict_one['entities']\n",
    "    entity_two = dict_two['entities']\n",
    "    if len(entity_one) == entity_two:\n",
    "        ls_entity_one = [value[1] for value in entity_one]\n",
    "        ls_entity_two = [value[1] for value in entity_two]\n",
    "        return [ls_entity_one, ls_entity_two]\n",
    "    return 1"
   ]
  },
  {
   "cell_type": "code",
   "execution_count": null,
   "id": "6adaf49f",
   "metadata": {},
   "outputs": [],
   "source": [
    "ls = []\n",
    "for key, value in dict_gemini.items():\n",
    "    "
   ]
  },
  {
   "cell_type": "code",
   "execution_count": 54,
   "id": "a8222a79",
   "metadata": {},
   "outputs": [],
   "source": [
    "from sklearn.metrics import cohen_kappa_score\n",
    "\n",
    "def compare(dict_one, dict_two):\n",
    "    entity_one = dict_one['entities']\n",
    "    entity_two = dict_two['entities']\n",
    "    dict_one_map = {token: label for token, label in entity_one}\n",
    "    dict_two_map = {token: label for token, label in entity_two}\n",
    "    all_tokens = sorted(set(dict_one_map.keys()) | set(dict_two_map.keys()))\n",
    "    labels_one = [dict_one_map.get(token, 'O') for token in all_tokens]\n",
    "    labels_two = [dict_two_map.get(token, 'O') for token in all_tokens]\n",
    "    return [labels_one, labels_two]"
   ]
  },
  {
   "cell_type": "code",
   "execution_count": 55,
   "id": "2b02a664",
   "metadata": {},
   "outputs": [
    {
     "data": {
      "text/plain": [
       "[['Number', 'Units', 'Ingredients'], ['Number', 'Units', 'Ingredients']]"
      ]
     },
     "execution_count": 55,
     "metadata": {},
     "output_type": "execute_result"
    }
   ],
   "source": [
    "key = '250 gr.:schweinerücken'\n",
    "dict_one = dict_gemini[key]\n",
    "dict_two = dict_open[key]\n",
    "compare(dict_one, dict_two)"
   ]
  },
  {
   "cell_type": "code",
   "execution_count": 77,
   "id": "4b2d36b9",
   "metadata": {},
   "outputs": [
    {
     "name": "stdout",
     "output_type": "stream",
     "text": [
      "ajkhsdf\n",
      "{'entities': [['0.5', 'Number'], ['glas', 'Units'], ['preiselbeeren', 'Ingredients']]}\n",
      "0.5 glas:preiselbeeren\n",
      "{'entities': [['250', 'Number'], ['gr.', 'Units'], ['schweinerücken', 'Ingredients']]}\n",
      "ajkhsdf\n",
      "{'entities': [['1', 'Number'], ['rote', 'Type'], ['paprika', 'Ingredients']]}\n",
      "1 rote:paprika\n",
      "{'entities': [['250', 'Number'], ['gr.', 'Units'], ['schweinerücken', 'Ingredients']]}\n",
      "ajkhsdf\n",
      "{'entities': [['2', 'Number'], ['stück', 'Units'], ['frühlingszwiebeln', 'Ingredients']]}\n",
      "2 stück:frühlingszwiebeln\n",
      "{'entities': [['250', 'Number'], ['gr.', 'Units'], ['schweinerücken', 'Ingredients']]}\n",
      "ajkhsdf\n",
      "{'entities': [['300', 'Number'], ['g', 'Units'], ['erdbeeren', 'Ingredients']]}\n",
      "300 g:erdbeeren\n",
      "{'entities': [['250', 'Number'], ['gr.', 'Units'], ['schweinerücken', 'Ingredients']]}\n",
      "ajkhsdf\n",
      "{'entities': [['250', 'Number'], ['gramm', 'Units'], ['weizenmehl', 'Ingredients']]}\n",
      "250 gramm:weizenmehl\n",
      "{'entities': [['250', 'Number'], ['gr.', 'Units'], ['schweinerücken', 'Ingredients']]}\n",
      "ajkhsdf\n",
      "{'entities': [['0.8', 'Number'], ['topf', 'Units'], ['petersilie', 'Ingredients']]}\n",
      "0.8 topf:petersilie\n",
      "{'entities': [['250', 'Number'], ['gr.', 'Units'], ['schweinerücken', 'Ingredients']]}\n",
      "ajkhsdf\n",
      "{'entities': [['3', 'Number'], ['päckchen', 'Units'], ['löffelbiskuits', 'Ingredients']]}\n",
      "3 päckchen:löffelbiskuits\n",
      "{'entities': [['250', 'Number'], ['gr.', 'Units'], ['schweinerücken', 'Ingredients']]}\n",
      "ajkhsdf\n",
      "{'entities': [['3', 'Number'], ['el', 'Units'], ['dijon senf gekörnt', 'Ingredients']]}\n",
      "3 el:dijon senf gekörnt\n",
      "{'entities': [['250', 'Number'], ['gr.', 'Units'], ['schweinerücken', 'Ingredients']]}\n",
      "ajkhsdf\n",
      "{'entities': [['20', 'Number'], ['gramm', 'Units'], ['pistazien', 'Ingredients']]}\n",
      "20 gramm:pistazien\n",
      "{'entities': [['250', 'Number'], ['gr.', 'Units'], ['schweinerücken', 'Ingredients']]}\n",
      "ajkhsdf\n",
      "{'entities': [[':salz', 'Ingredients'], [',pfeffer', 'Type']]}\n",
      ":salz ,pfeffer\n",
      "{'entities': [['250', 'Number'], ['gr.', 'Units'], ['schweinerücken', 'Ingredients']]}\n",
      "ajkhsdf\n",
      "{'entities': [['1', 'Number'], ['kleine', 'Type'], ['zwiebel', 'Ingredients'], ['in feine würfelgeschnitten', 'Type']]}\n",
      "1 kleine:zwiebel, in feine würfelgeschnitten\n",
      "{'entities': [['250', 'Number'], ['gr.', 'Units'], ['schweinerücken', 'Ingredients']]}\n",
      "ajkhsdf\n",
      "{'entities': [['6', 'Number'], ['esslöffel', 'Units'], ['pudderzucker', 'Ingredients']]}\n",
      "6 esslöffel:pudderzucker\n",
      "{'entities': [['250', 'Number'], ['gr.', 'Units'], ['schweinerücken', 'Ingredients']]}\n",
      "ajkhsdf\n",
      "{'entities': [['1', 'Number'], ['stk', 'Units'], ['zwiebel', 'Ingredients']]}\n",
      "1 stk:zwiebel\n",
      "{'entities': [['250', 'Number'], ['gr.', 'Units'], ['schweinerücken', 'Ingredients']]}\n",
      "ajkhsdf\n",
      "{'entities': [['40', 'Number'], ['gr', 'Units'], ['getrocknetetomaten', 'Ingredients'], ['gewürfelt', 'Type']]}\n",
      "40 gr:getrocknetetomaten,gewürfelt\n",
      "{'entities': [['250', 'Number'], ['gr.', 'Units'], ['schweinerücken', 'Ingredients']]}\n",
      "ajkhsdf\n",
      "{'entities': [['100', 'Number'], ['gramm', 'Units'], ['mayonaise', 'Ingredients']]}\n",
      "100 gramm:mayonaise\n",
      "{'entities': [['250', 'Number'], ['gr.', 'Units'], ['schweinerücken', 'Ingredients']]}\n",
      "ajkhsdf\n",
      "{'entities': [['120', 'Number'], ['gr', 'Units'], ['kalbsfilet', 'Ingredients']]}\n",
      "120 gr.:kalbsfilet\n",
      "{'entities': [['250', 'Number'], ['gr.', 'Units'], ['schweinerücken', 'Ingredients']]}\n",
      "ajkhsdf\n",
      "{'entities': [['100', 'Number'], ['milliliter', 'Units'], ['milch', 'Ingredients']]}\n",
      "100 milliliter:milch\n",
      "{'entities': [['250', 'Number'], ['gr.', 'Units'], ['schweinerücken', 'Ingredients']]}\n",
      "ajkhsdf\n",
      "{'entities': [['125', 'Number'], ['ml', 'Units'], ['öl', 'Ingredients']]}\n",
      "125 ml:öl\n",
      "{'entities': [['250', 'Number'], ['gr.', 'Units'], ['schweinerücken', 'Ingredients']]}\n",
      "ajkhsdf\n",
      "{'entities': [['100', 'Number'], ['gramm', 'Units'], ['sauerrahm', 'Ingredients']]}\n",
      "100 gramm:sauerrahm\n",
      "{'entities': [['250', 'Number'], ['gr.', 'Units'], ['schweinerücken', 'Ingredients']]}\n",
      "ajkhsdf\n",
      "{'entities': [[':für die soße-', 'Ingredients']]}\n",
      ":für die soße-\n",
      "{'entities': [['250', 'Number'], ['gr.', 'Units'], ['schweinerücken', 'Ingredients']]}\n",
      "ajkhsdf\n",
      "{'entities': [['100', 'Number'], ['ml', 'Units'], ['wasser', 'Ingredients']]}\n",
      "100 ml:wasser\n",
      "{'entities': [['250', 'Number'], ['gr.', 'Units'], ['schweinerücken', 'Ingredients']]}\n",
      "ajkhsdf\n",
      "{'entities': [['1', 'Number'], ['beutel', 'Units'], ['langkornreis', 'Ingredients']]}\n",
      "1 beutel:langkornreis\n",
      "{'entities': [['250', 'Number'], ['gr.', 'Units'], ['schweinerücken', 'Ingredients']]}\n",
      "ajkhsdf\n",
      "{'entities': [['butter', 'Ingredients']]}\n",
      ":butter\n",
      "{'entities': [['250', 'Number'], ['gr.', 'Units'], ['schweinerücken', 'Ingredients']]}\n",
      "ajkhsdf\n",
      "{'entities': [['1', 'Number'], ['tl', 'Units'], ['mehl', 'Ingredients']]}\n",
      "1 tl:mehl\n",
      "{'entities': [['250', 'Number'], ['gr.', 'Units'], ['schweinerücken', 'Ingredients']]}\n",
      "ajkhsdf\n",
      "{'entities': [['salz, pfeffer, essig, öl', 'Ingredients']]}\n",
      ":salz, pfeffer, essig, öl\n",
      "{'entities': [['250', 'Number'], ['gr.', 'Units'], ['schweinerücken', 'Ingredients']]}\n",
      "ajkhsdf\n",
      "{'entities': [['2', 'Number'], ['el', 'Units'], ['pistazienkerne', 'Ingredients']]}\n",
      "2 el:pistazienkerne\n",
      "{'entities': [['250', 'Number'], ['gr.', 'Units'], ['schweinerücken', 'Ingredients']]}\n",
      "ajkhsdf\n",
      "{'entities': [['175', 'Number'], ['gr', 'Units'], ['zucker', 'Ingredients']]}\n",
      "175 gr.:zucker\n",
      "{'entities': [['250', 'Number'], ['gr.', 'Units'], ['schweinerücken', 'Ingredients']]}\n",
      "ajkhsdf\n",
      "{'entities': [['600', 'Number'], ['gramm', 'Units'], ['äpfel frisch boskop', 'Ingredients']]}\n",
      "600 gramm:äpfel frisch boskop\n",
      "{'entities': [['250', 'Number'], ['gr.', 'Units'], ['schweinerücken', 'Ingredients']]}\n",
      "ajkhsdf\n",
      "{'entities': [['200', 'Number'], ['gramm', 'Units'], ['spaghetti', 'Ingredients']]}\n",
      "200 gramm:spaghetti\n",
      "{'entities': [['250', 'Number'], ['gr.', 'Units'], ['schweinerücken', 'Ingredients']]}\n",
      "ajkhsdf\n",
      "{'entities': [['500', 'Number'], ['gramm', 'Units'], ['nudeln', 'Ingredients']]}\n",
      "500 gramm:nudeln\n",
      "{'entities': [['250', 'Number'], ['gr.', 'Units'], ['schweinerücken', 'Ingredients']]}\n",
      "ajkhsdf\n",
      "{'entities': [['2', 'Number'], ['el', 'Units'], ['senf', 'Ingredients']]}\n",
      "2 el:senf\n",
      "{'entities': [['250', 'Number'], ['gr.', 'Units'], ['schweinerücken', 'Ingredients']]}\n",
      "ajkhsdf\n",
      "{'entities': [['2', 'Number'], ['el', 'Units'], ['hartweizengries', 'Ingredients']]}\n",
      "2 el:hartweizengries\n",
      "{'entities': [['250', 'Number'], ['gr.', 'Units'], ['schweinerücken', 'Ingredients']]}\n",
      "ajkhsdf\n",
      "{'entities': [['mohn, käse, sesam nachgeschmack', 'Ingredients']]}\n",
      ":mohn, käse, sesam nachgeschmack\n",
      "{'entities': [['250', 'Number'], ['gr.', 'Units'], ['schweinerücken', 'Ingredients']]}\n",
      "ajkhsdf\n",
      "{'entities': [['1', 'Number'], ['tl', 'Units'], ['rosmarin', 'Ingredients']]}\n",
      "1 tl.:rosmarin\n",
      "{'entities': [['250', 'Number'], ['gr.', 'Units'], ['schweinerücken', 'Ingredients']]}\n",
      "ajkhsdf\n",
      "{'entities': [['1', 'Number'], ['knolle', 'Units'], ['knoblauch frisch', 'Ingredients']]}\n",
      "1 knolle:knoblauch frisch\n",
      "{'entities': [['250', 'Number'], ['gr.', 'Units'], ['schweinerücken', 'Ingredients']]}\n",
      "ajkhsdf\n",
      "{'entities': [['2', 'Number'], ['stück', 'Units'], ['wiener würstchen', 'Ingredients']]}\n",
      "2 stück:wiener würstchen\n",
      "{'entities': [['250', 'Number'], ['gr.', 'Units'], ['schweinerücken', 'Ingredients']]}\n",
      "ajkhsdf\n",
      "{'entities': [['500', 'Number'], ['g', 'Units'], ['kartoffeln halb gegart', 'Ingredients']]}\n",
      "500 g:kartoffeln halb gegart\n",
      "{'entities': [['250', 'Number'], ['gr.', 'Units'], ['schweinerücken', 'Ingredients']]}\n",
      "ajkhsdf\n",
      "{'entities': [['2', 'Number'], ['dosen', 'Units'], ['champions in scheiben', 'Ingredients']]}\n",
      "2 dosen:champions in scheiben\n",
      "{'entities': [['250', 'Number'], ['gr.', 'Units'], ['schweinerücken', 'Ingredients']]}\n",
      "ajkhsdf\n",
      "{'entities': [['450', 'Number'], ['g', 'Units'], ['kalbsleber - dünngeschnitten', 'Ingredients']]}\n",
      "450 g:kalbsleber - dünngeschnitten\n",
      "{'entities': [['250', 'Number'], ['gr.', 'Units'], ['schweinerücken', 'Ingredients']]}\n",
      "ajkhsdf\n",
      "{'entities': [['300', 'Number'], ['gramm', 'Units'], ['schafskäse, je nach größeder paprikas etwas mehr', 'Ingredients']]}\n",
      "300 gramm:schafskäse, je nach größeder paprikas etwas mehr\n",
      "{'entities': [['250', 'Number'], ['gr.', 'Units'], ['schweinerücken', 'Ingredients']]}\n",
      "0.6120260160717759\n"
     ]
    }
   ],
   "source": [
    "ls_one = []\n",
    "ls_two = []\n",
    "no_match = 0\n",
    "ls = []\n",
    "for key, value in dict_gemini.items():\n",
    "    try:\n",
    "        dict_two = {}\n",
    "        if key in dict_open:\n",
    "            dict_two = dict_open[key]\n",
    "        else:\n",
    "            tokens = [(token, 'O') for token, label in value['entities']]\n",
    "            dict_two = {'entities': tokens}\n",
    "        one, two = compare(value, dict_two)\n",
    "        if len(one) < 1 or len(two) < 1:\n",
    "            no_match+=1\n",
    "        ls_one.extend(one)\n",
    "        ls_two.extend(two)\n",
    "    except Exception as e:\n",
    "        print(\"ajkhsdf\")\n",
    "        ls.append(1)\n",
    "        print(dict_two)\n",
    "        print(key)\n",
    "        print(dict_one)\n",
    "kappa = cohen_kappa_score(ls_one, ls_two)\n",
    "print(kappa)"
   ]
  }
 ],
 "metadata": {
  "kernelspec": {
   "display_name": "venv",
   "language": "python",
   "name": "python3"
  },
  "language_info": {
   "codemirror_mode": {
    "name": "ipython",
    "version": 3
   },
   "file_extension": ".py",
   "mimetype": "text/x-python",
   "name": "python",
   "nbconvert_exporter": "python",
   "pygments_lexer": "ipython3",
   "version": "3.11.8"
  }
 },
 "nbformat": 4,
 "nbformat_minor": 5
}
