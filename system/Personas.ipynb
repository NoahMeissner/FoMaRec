{
 "cells": [
  {
   "cell_type": "markdown",
   "id": "9a9b84f3",
   "metadata": {},
   "source": [
    "## Evaluate Dataset from Paper \"Personalized Food Recommendation as Constrained Question Answering over a Large scale Food Knowledge Graph\""
   ]
  },
  {
   "cell_type": "code",
   "execution_count": 52,
   "id": "f5431a9f",
   "metadata": {},
   "outputs": [],
   "source": [
    "import pandas as pd \n",
    "import numpy as np \n",
    "from foodrec.tools.ingredient_normalizer import IngredientNormalisation\n",
    "from foodrec.config.structure.paths import DATASET_PATHS\n",
    "from foodrec.config.structure.dataset_enum import DatasetEnum"
   ]
  },
  {
   "cell_type": "markdown",
   "id": "7ab85a09",
   "metadata": {},
   "source": [
    "## Load Dataset"
   ]
  },
  {
   "cell_type": "code",
   "execution_count": 6,
   "id": "dc22fc0d",
   "metadata": {},
   "outputs": [],
   "source": [
    "df = pd.read_json(DATASET_PATHS / \"test_qas_090820.json\", orient=\"records\", lines=True)"
   ]
  },
  {
   "cell_type": "code",
   "execution_count": 7,
   "id": "5953e489",
   "metadata": {},
   "outputs": [
    {
     "data": {
      "text/html": [
       "<div>\n",
       "<style scoped>\n",
       "    .dataframe tbody tr th:only-of-type {\n",
       "        vertical-align: middle;\n",
       "    }\n",
       "\n",
       "    .dataframe tbody tr th {\n",
       "        vertical-align: top;\n",
       "    }\n",
       "\n",
       "    .dataframe thead th {\n",
       "        text-align: right;\n",
       "    }\n",
       "</style>\n",
       "<table border=\"1\" class=\"dataframe\">\n",
       "  <thead>\n",
       "    <tr style=\"text-align: right;\">\n",
       "      <th></th>\n",
       "      <th>entities</th>\n",
       "      <th>topicKey</th>\n",
       "      <th>rel_path</th>\n",
       "      <th>qOriginText</th>\n",
       "      <th>qType</th>\n",
       "      <th>multi_tag_type</th>\n",
       "      <th>origin_answers</th>\n",
       "      <th>answers</th>\n",
       "      <th>log_dishes</th>\n",
       "      <th>qText</th>\n",
       "      <th>guideline</th>\n",
       "      <th>persona</th>\n",
       "      <th>domainType</th>\n",
       "      <th>qId</th>\n",
       "      <th>explicit_nutrition</th>\n",
       "    </tr>\n",
       "  </thead>\n",
       "  <tbody>\n",
       "    <tr>\n",
       "      <th>0</th>\n",
       "      <td>[[papaya, tag]]</td>\n",
       "      <td>[http://idea.rpi.edu/heals/kb/tag/papaya]</td>\n",
       "      <td>[tagged_dishes]</td>\n",
       "      <td>Can you suggest papaya recipes that do not con...</td>\n",
       "      <td>constraint</td>\n",
       "      <td>none</td>\n",
       "      <td>[Thai Curried Prawn Soup, Pineapple, Papaya &amp; ...</td>\n",
       "      <td>[Tropical Quinoa (Ww)]</td>\n",
       "      <td>[Irish Roasted Salmon, Slammin Salmon, Salmon ...</td>\n",
       "      <td>Can you suggest papaya recipes that do not con...</td>\n",
       "      <td>{'saturated fat': {'percentage': 'calories', '...</td>\n",
       "      <td>{'ingredient_likes': ['scallions'], 'ingredien...</td>\n",
       "      <td>in-domain</td>\n",
       "      <td>constraint-qas-test-00000</td>\n",
       "      <td>NaN</td>\n",
       "    </tr>\n",
       "    <tr>\n",
       "      <th>1</th>\n",
       "      <td>[[labor-day, tag]]</td>\n",
       "      <td>[http://idea.rpi.edu/heals/kb/tag/labor-day]</td>\n",
       "      <td>[tagged_dishes]</td>\n",
       "      <td>What are low protein labor-day recipes which d...</td>\n",
       "      <td>constraint</td>\n",
       "      <td>none</td>\n",
       "      <td>[Bacon-Wrapped Tater Tots, Southwestern Roaste...</td>\n",
       "      <td>[Mandarin Chicken Pasta Salad - Pampered Chef,...</td>\n",
       "      <td>[Fassolia Gigantes Plaki (Giant Beans Baked in...</td>\n",
       "      <td>What are low protein labor-day recipes which d...</td>\n",
       "      <td>{'carbohydrates': {'unit': 'g', 'meal': {'type...</td>\n",
       "      <td>{'ingredient_likes': ['red bell peppers'], 'in...</td>\n",
       "      <td>in-domain</td>\n",
       "      <td>constraint-qas-test-00001</td>\n",
       "      <td>[{'nutrition': 'protein', 'level': 'low', 'ran...</td>\n",
       "    </tr>\n",
       "    <tr>\n",
       "      <th>2</th>\n",
       "      <td>[[shakes, tag]]</td>\n",
       "      <td>[http://idea.rpi.edu/heals/kb/tag/shakes]</td>\n",
       "      <td>[tagged_dishes]</td>\n",
       "      <td>Can you suggest shakes recipes that do not con...</td>\n",
       "      <td>constraint</td>\n",
       "      <td>none</td>\n",
       "      <td>[Baileys Frappe, Chocolate Coconut Milkshake, ...</td>\n",
       "      <td>[Grape Juice Shake, My Great Grape and Banana ...</td>\n",
       "      <td>[Fassolia Gigantes Plaki (Giant Beans Baked in...</td>\n",
       "      <td>Can you suggest shakes recipes that do not con...</td>\n",
       "      <td>{'sugar': {'unit': 'g', 'meal': {'type': 'rang...</td>\n",
       "      <td>{'ingredient_likes': ['grape juice'], 'ingredi...</td>\n",
       "      <td>in-domain</td>\n",
       "      <td>constraint-qas-test-00002</td>\n",
       "      <td>NaN</td>\n",
       "    </tr>\n",
       "    <tr>\n",
       "      <th>3</th>\n",
       "      <td>[[rosh-hashana, tag]]</td>\n",
       "      <td>[http://idea.rpi.edu/heals/kb/tag/rosh-hashana]</td>\n",
       "      <td>[tagged_dishes]</td>\n",
       "      <td>Suggest low carbohydrates rosh-hashana dishes ...</td>\n",
       "      <td>constraint</td>\n",
       "      <td>none</td>\n",
       "      <td>[Winter Fruit Salad, Canadian \\'old-Time\\' Bra...</td>\n",
       "      <td>[Red Snapper Baked with Orange]</td>\n",
       "      <td>[Irish Roasted Salmon, Slammin Salmon, Salmon ...</td>\n",
       "      <td>Suggest low carbohydrates rosh-hashana dishes ...</td>\n",
       "      <td>{'sugar': {'unit': 'g', 'meal': {'type': 'rang...</td>\n",
       "      <td>{'ingredient_likes': ['red snapper'], 'ingredi...</td>\n",
       "      <td>in-domain</td>\n",
       "      <td>constraint-qas-test-00003</td>\n",
       "      <td>[{'nutrition': 'carbohydrates', 'level': 'low'...</td>\n",
       "    </tr>\n",
       "    <tr>\n",
       "      <th>4</th>\n",
       "      <td>[[cherries, tag]]</td>\n",
       "      <td>[http://idea.rpi.edu/heals/kb/tag/cherries]</td>\n",
       "      <td>[tagged_dishes]</td>\n",
       "      <td>What cherries dishes do not contain ingredient...</td>\n",
       "      <td>constraint</td>\n",
       "      <td>none</td>\n",
       "      <td>[Italian Cherry Sauce, Cherry Berry Smoothies,...</td>\n",
       "      <td>[Chocolate-Dipped Cherries With Pistachios]</td>\n",
       "      <td>[Irish Roasted Salmon, Slammin Salmon, Salmon ...</td>\n",
       "      <td>What cherries dishes do not contain ingredient...</td>\n",
       "      <td>{'sugar': {'unit': 'g', 'meal': {'type': 'rang...</td>\n",
       "      <td>{'ingredient_likes': ['heavy cream', 'pistachi...</td>\n",
       "      <td>in-domain</td>\n",
       "      <td>constraint-qas-test-00004</td>\n",
       "      <td>NaN</td>\n",
       "    </tr>\n",
       "  </tbody>\n",
       "</table>\n",
       "</div>"
      ],
      "text/plain": [
       "                entities                                         topicKey  \\\n",
       "0        [[papaya, tag]]        [http://idea.rpi.edu/heals/kb/tag/papaya]   \n",
       "1     [[labor-day, tag]]     [http://idea.rpi.edu/heals/kb/tag/labor-day]   \n",
       "2        [[shakes, tag]]        [http://idea.rpi.edu/heals/kb/tag/shakes]   \n",
       "3  [[rosh-hashana, tag]]  [http://idea.rpi.edu/heals/kb/tag/rosh-hashana]   \n",
       "4      [[cherries, tag]]      [http://idea.rpi.edu/heals/kb/tag/cherries]   \n",
       "\n",
       "          rel_path                                        qOriginText  \\\n",
       "0  [tagged_dishes]  Can you suggest papaya recipes that do not con...   \n",
       "1  [tagged_dishes]  What are low protein labor-day recipes which d...   \n",
       "2  [tagged_dishes]  Can you suggest shakes recipes that do not con...   \n",
       "3  [tagged_dishes]  Suggest low carbohydrates rosh-hashana dishes ...   \n",
       "4  [tagged_dishes]  What cherries dishes do not contain ingredient...   \n",
       "\n",
       "        qType multi_tag_type  \\\n",
       "0  constraint           none   \n",
       "1  constraint           none   \n",
       "2  constraint           none   \n",
       "3  constraint           none   \n",
       "4  constraint           none   \n",
       "\n",
       "                                      origin_answers  \\\n",
       "0  [Thai Curried Prawn Soup, Pineapple, Papaya & ...   \n",
       "1  [Bacon-Wrapped Tater Tots, Southwestern Roaste...   \n",
       "2  [Baileys Frappe, Chocolate Coconut Milkshake, ...   \n",
       "3  [Winter Fruit Salad, Canadian \\'old-Time\\' Bra...   \n",
       "4  [Italian Cherry Sauce, Cherry Berry Smoothies,...   \n",
       "\n",
       "                                             answers  \\\n",
       "0                             [Tropical Quinoa (Ww)]   \n",
       "1  [Mandarin Chicken Pasta Salad - Pampered Chef,...   \n",
       "2  [Grape Juice Shake, My Great Grape and Banana ...   \n",
       "3                    [Red Snapper Baked with Orange]   \n",
       "4        [Chocolate-Dipped Cherries With Pistachios]   \n",
       "\n",
       "                                          log_dishes  \\\n",
       "0  [Irish Roasted Salmon, Slammin Salmon, Salmon ...   \n",
       "1  [Fassolia Gigantes Plaki (Giant Beans Baked in...   \n",
       "2  [Fassolia Gigantes Plaki (Giant Beans Baked in...   \n",
       "3  [Irish Roasted Salmon, Slammin Salmon, Salmon ...   \n",
       "4  [Irish Roasted Salmon, Slammin Salmon, Salmon ...   \n",
       "\n",
       "                                               qText  \\\n",
       "0  Can you suggest papaya recipes that do not con...   \n",
       "1  What are low protein labor-day recipes which d...   \n",
       "2  Can you suggest shakes recipes that do not con...   \n",
       "3  Suggest low carbohydrates rosh-hashana dishes ...   \n",
       "4  What cherries dishes do not contain ingredient...   \n",
       "\n",
       "                                           guideline  \\\n",
       "0  {'saturated fat': {'percentage': 'calories', '...   \n",
       "1  {'carbohydrates': {'unit': 'g', 'meal': {'type...   \n",
       "2  {'sugar': {'unit': 'g', 'meal': {'type': 'rang...   \n",
       "3  {'sugar': {'unit': 'g', 'meal': {'type': 'rang...   \n",
       "4  {'sugar': {'unit': 'g', 'meal': {'type': 'rang...   \n",
       "\n",
       "                                             persona domainType  \\\n",
       "0  {'ingredient_likes': ['scallions'], 'ingredien...  in-domain   \n",
       "1  {'ingredient_likes': ['red bell peppers'], 'in...  in-domain   \n",
       "2  {'ingredient_likes': ['grape juice'], 'ingredi...  in-domain   \n",
       "3  {'ingredient_likes': ['red snapper'], 'ingredi...  in-domain   \n",
       "4  {'ingredient_likes': ['heavy cream', 'pistachi...  in-domain   \n",
       "\n",
       "                         qId  \\\n",
       "0  constraint-qas-test-00000   \n",
       "1  constraint-qas-test-00001   \n",
       "2  constraint-qas-test-00002   \n",
       "3  constraint-qas-test-00003   \n",
       "4  constraint-qas-test-00004   \n",
       "\n",
       "                                  explicit_nutrition  \n",
       "0                                                NaN  \n",
       "1  [{'nutrition': 'protein', 'level': 'low', 'ran...  \n",
       "2                                                NaN  \n",
       "3  [{'nutrition': 'carbohydrates', 'level': 'low'...  \n",
       "4                                                NaN  "
      ]
     },
     "execution_count": 7,
     "metadata": {},
     "output_type": "execute_result"
    }
   ],
   "source": [
    "df.head()"
   ]
  },
  {
   "cell_type": "code",
   "execution_count": 15,
   "id": "249d25d2",
   "metadata": {},
   "outputs": [
    {
     "data": {
      "text/plain": [
       "Index(['entities', 'topicKey', 'rel_path', 'qOriginText', 'qType',\n",
       "       'multi_tag_type', 'origin_answers', 'answers', 'log_dishes', 'qText',\n",
       "       'guideline', 'persona', 'domainType', 'qId', 'explicit_nutrition'],\n",
       "      dtype='object')"
      ]
     },
     "execution_count": 15,
     "metadata": {},
     "output_type": "execute_result"
    }
   ],
   "source": [
    "df.columns"
   ]
  },
  {
   "cell_type": "code",
   "execution_count": 20,
   "id": "5ac27249",
   "metadata": {},
   "outputs": [
    {
     "data": {
      "text/plain": [
       "0       {'ingredient_likes': ['scallions'], 'ingredien...\n",
       "1       {'ingredient_likes': ['red bell peppers'], 'in...\n",
       "2       {'ingredient_likes': ['grape juice'], 'ingredi...\n",
       "3       {'ingredient_likes': ['red snapper'], 'ingredi...\n",
       "4       {'ingredient_likes': ['heavy cream', 'pistachi...\n",
       "                              ...                        \n",
       "2756    {'ingredient_likes': ['white pepper'], 'ingred...\n",
       "2757    {'ingredient_likes': ['apple juice'], 'ingredi...\n",
       "2758    {'ingredient_likes': ['dates'], 'ingredient_di...\n",
       "2759    {'ingredient_likes': ['lean beef'], 'ingredien...\n",
       "2760    {'ingredient_likes': ['zucchini'], 'ingredient...\n",
       "Name: persona, Length: 2761, dtype: object"
      ]
     },
     "execution_count": 20,
     "metadata": {},
     "output_type": "execute_result"
    }
   ],
   "source": [
    "df['persona']"
   ]
  },
  {
   "cell_type": "markdown",
   "id": "f725a36a",
   "metadata": {},
   "source": [
    "## Exploratory Analysis"
   ]
  },
  {
   "cell_type": "markdown",
   "id": "dedf221a",
   "metadata": {},
   "source": [
    "\"\" We are particulary interested in the personas and Queries as one example shown below. The problem is we must adapt those to our possible personas including the variables cuisine and time\"\"\n",
    "\n",
    "First lets analyse different types of queries"
   ]
  },
  {
   "cell_type": "code",
   "execution_count": 25,
   "id": "6d3faf7f",
   "metadata": {},
   "outputs": [
    {
     "name": "stdout",
     "output_type": "stream",
     "text": [
      "One Example of a persona and query:\n",
      "Query: What squid dishes can I make that do not contain toasted sesame seeds?\n",
      "Persona: {'ingredient_likes': ['carrot'], 'ingredient_dislikes': ['lobsters'], 'constrained_entities': {'1': ['carrot', 'calories with desired range 100.0 calories to 800.0 calories'], '2': ['lobsters', 'toasted sesame seeds']}}\n"
     ]
    }
   ],
   "source": [
    "print(\"One Example of a persona and query:\")\n",
    "row = df.iloc[40]\n",
    "print(f\"Query: {row['qOriginText']}\")\n",
    "print(f\"Persona: {row['persona']}\")"
   ]
  },
  {
   "cell_type": "markdown",
   "id": "733a1752",
   "metadata": {},
   "source": [
    "## Select Ingredients"
   ]
  },
  {
   "cell_type": "markdown",
   "id": "ef781408",
   "metadata": {},
   "source": [
    "\"\"\"\n",
    "We need 100 queries, which should be very variable in this context. That is the reason, why we now select 100 from the 2700 Queries. \n",
    "1. We check manually if the queries match or constraints. \n",
    "2. Later on from the 100 queries, we add to 10 percent of the personas vegetarian diet, which are not in our dataset as variable. \n",
    "3. As well we add to 20 % of the personas cuisines preferences, because they are as well part of our variables\n",
    "\"\"\""
   ]
  },
  {
   "cell_type": "code",
   "execution_count": 55,
   "id": "d16170c4",
   "metadata": {},
   "outputs": [],
   "source": [
    "df_sample = df.sample(n=100, random_state=42)"
   ]
  },
  {
   "cell_type": "code",
   "execution_count": 56,
   "id": "0a7c0bc8",
   "metadata": {},
   "outputs": [],
   "source": [
    "df_filtered = df_sample[['persona', 'qOriginText']].copy()"
   ]
  },
  {
   "cell_type": "code",
   "execution_count": 57,
   "id": "81535d56",
   "metadata": {},
   "outputs": [],
   "source": [
    "def reduce_persona(persona):\n",
    "    ingredients = persona.get('ingredient_likes', [])\n",
    "    dislikes = persona.get('ingredient_dislikes', [])\n",
    "    return {\n",
    "        'likes': ingredients,\n",
    "        'dislikes': dislikes,\n",
    "    }"
   ]
  },
  {
   "cell_type": "code",
   "execution_count": 58,
   "id": "67b63f51",
   "metadata": {},
   "outputs": [],
   "source": [
    "df_filtered['persona'] = df_filtered['persona'].apply(reduce_persona)"
   ]
  },
  {
   "cell_type": "code",
   "execution_count": 59,
   "id": "271426d0",
   "metadata": {},
   "outputs": [
    {
     "data": {
      "text/html": [
       "<div>\n",
       "<style scoped>\n",
       "    .dataframe tbody tr th:only-of-type {\n",
       "        vertical-align: middle;\n",
       "    }\n",
       "\n",
       "    .dataframe tbody tr th {\n",
       "        vertical-align: top;\n",
       "    }\n",
       "\n",
       "    .dataframe thead th {\n",
       "        text-align: right;\n",
       "    }\n",
       "</style>\n",
       "<table border=\"1\" class=\"dataframe\">\n",
       "  <thead>\n",
       "    <tr style=\"text-align: right;\">\n",
       "      <th></th>\n",
       "      <th>persona</th>\n",
       "      <th>qOriginText</th>\n",
       "    </tr>\n",
       "  </thead>\n",
       "  <tbody>\n",
       "    <tr>\n",
       "      <th>367</th>\n",
       "      <td>{'likes': ['caramels'], 'dislikes': ['plain lo...</td>\n",
       "      <td>Recommend oatmeal recipes which do not have in...</td>\n",
       "    </tr>\n",
       "    <tr>\n",
       "      <th>2759</th>\n",
       "      <td>{'likes': ['lean beef'], 'dislikes': ['ginger'...</td>\n",
       "      <td>Could you recommend czech dishes which do not ...</td>\n",
       "    </tr>\n",
       "    <tr>\n",
       "      <th>1330</th>\n",
       "      <td>{'likes': ['pork back ribs'], 'dislikes': ['ri...</td>\n",
       "      <td>Suggest high fat beef-ribs dishes that do not ...</td>\n",
       "    </tr>\n",
       "    <tr>\n",
       "      <th>2750</th>\n",
       "      <td>{'likes': ['chorizo sausage'], 'dislikes': ['b...</td>\n",
       "      <td>What are medium carbohydrates puerto-rican dis...</td>\n",
       "    </tr>\n",
       "    <tr>\n",
       "      <th>521</th>\n",
       "      <td>{'likes': ['dill pickle'], 'dislikes': ['large...</td>\n",
       "      <td>Suggest kwanzaa dishes that do not contain onion?</td>\n",
       "    </tr>\n",
       "    <tr>\n",
       "      <th>...</th>\n",
       "      <td>...</td>\n",
       "      <td>...</td>\n",
       "    </tr>\n",
       "    <tr>\n",
       "      <th>2419</th>\n",
       "      <td>{'likes': ['egg whites'], 'dislikes': ['countr...</td>\n",
       "      <td>What are breakfast recipes that do not contain...</td>\n",
       "    </tr>\n",
       "    <tr>\n",
       "      <th>2665</th>\n",
       "      <td>{'likes': ['buttermilk'], 'dislikes': ['cornme...</td>\n",
       "      <td>What puerto-rican dishes do not contain ingred...</td>\n",
       "    </tr>\n",
       "    <tr>\n",
       "      <th>1601</th>\n",
       "      <td>{'likes': ['vegetable stock'], 'dislikes': ['c...</td>\n",
       "      <td>Can you suggest simply-potatoes recipes that d...</td>\n",
       "    </tr>\n",
       "    <tr>\n",
       "      <th>1666</th>\n",
       "      <td>{'likes': ['vermicelli'], 'dislikes': ['poblan...</td>\n",
       "      <td>Recommend leftovers recipes which do not have ...</td>\n",
       "    </tr>\n",
       "    <tr>\n",
       "      <th>1510</th>\n",
       "      <td>{'likes': ['beer'], 'dislikes': ['pickled herr...</td>\n",
       "      <td>What are icelandic recipes that do not consist...</td>\n",
       "    </tr>\n",
       "  </tbody>\n",
       "</table>\n",
       "<p>100 rows × 2 columns</p>\n",
       "</div>"
      ],
      "text/plain": [
       "                                                persona  \\\n",
       "367   {'likes': ['caramels'], 'dislikes': ['plain lo...   \n",
       "2759  {'likes': ['lean beef'], 'dislikes': ['ginger'...   \n",
       "1330  {'likes': ['pork back ribs'], 'dislikes': ['ri...   \n",
       "2750  {'likes': ['chorizo sausage'], 'dislikes': ['b...   \n",
       "521   {'likes': ['dill pickle'], 'dislikes': ['large...   \n",
       "...                                                 ...   \n",
       "2419  {'likes': ['egg whites'], 'dislikes': ['countr...   \n",
       "2665  {'likes': ['buttermilk'], 'dislikes': ['cornme...   \n",
       "1601  {'likes': ['vegetable stock'], 'dislikes': ['c...   \n",
       "1666  {'likes': ['vermicelli'], 'dislikes': ['poblan...   \n",
       "1510  {'likes': ['beer'], 'dislikes': ['pickled herr...   \n",
       "\n",
       "                                            qOriginText  \n",
       "367   Recommend oatmeal recipes which do not have in...  \n",
       "2759  Could you recommend czech dishes which do not ...  \n",
       "1330  Suggest high fat beef-ribs dishes that do not ...  \n",
       "2750  What are medium carbohydrates puerto-rican dis...  \n",
       "521   Suggest kwanzaa dishes that do not contain onion?  \n",
       "...                                                 ...  \n",
       "2419  What are breakfast recipes that do not contain...  \n",
       "2665  What puerto-rican dishes do not contain ingred...  \n",
       "1601  Can you suggest simply-potatoes recipes that d...  \n",
       "1666  Recommend leftovers recipes which do not have ...  \n",
       "1510  What are icelandic recipes that do not consist...  \n",
       "\n",
       "[100 rows x 2 columns]"
      ]
     },
     "execution_count": 59,
     "metadata": {},
     "output_type": "execute_result"
    }
   ],
   "source": [
    "df_filtered"
   ]
  },
  {
   "cell_type": "code",
   "execution_count": 60,
   "id": "803de00f",
   "metadata": {},
   "outputs": [],
   "source": [
    "def replace_nutritions(text):\n",
    "    text = text.replace(\"carbohydrates\", \"\")\n",
    "    text = text.replace(\"protein\", \"\")\n",
    "    text = text.replace(\"fat\", \"\")\n",
    "    text = text.replace(\"low\", \"\")\n",
    "    text = text.replace(\"high\", \"\")\n",
    "    text = text.replace(\"medium\", \"\")\n",
    "    text = text.replace(\"  \", \" \")\n",
    "    return text"
   ]
  },
  {
   "cell_type": "code",
   "execution_count": 61,
   "id": "f5cb9904",
   "metadata": {},
   "outputs": [],
   "source": [
    "df_filtered['qOriginText'] = df_filtered['qOriginText'].apply(replace_nutritions)"
   ]
  },
  {
   "cell_type": "markdown",
   "id": "caa15ee3",
   "metadata": {},
   "source": [
    "### 2. Diet"
   ]
  },
  {
   "cell_type": "markdown",
   "id": "2a89dd55",
   "metadata": {},
   "source": [
    "We want to add to 10 percent a diet preference in the form of vegetarian"
   ]
  },
  {
   "cell_type": "code",
   "execution_count": 62,
   "id": "8f49c6bc",
   "metadata": {},
   "outputs": [],
   "source": [
    "def add_vegetarian_diet(persona):\n",
    "    if np.random.rand() < 0.1:\n",
    "        persona['diet'] = 'vegetarian'\n",
    "    return persona\n",
    "\n",
    "df_filtered['persona'] = df_filtered['persona'].apply(add_vegetarian_diet)      "
   ]
  },
  {
   "cell_type": "markdown",
   "id": "ccf6536f",
   "metadata": {},
   "source": [
    "### 3. Add cuisine"
   ]
  },
  {
   "cell_type": "code",
   "execution_count": 63,
   "id": "f89ee7ee",
   "metadata": {},
   "outputs": [],
   "source": [
    "def add_cuisine(persona):\n",
    "    cuisines = ['central_europe', 'north_america', 'asia', 'latin_america', 'middle_east']\n",
    "    if np.random.rand() < 0.2:\n",
    "        persona['cuisine'] = str(np.random.choice(cuisines))\n",
    "\n",
    "    return persona\n",
    "\n",
    "df_filtered['persona'] = df_filtered['persona'].apply(add_cuisine)"
   ]
  },
  {
   "cell_type": "markdown",
   "id": "5035948e",
   "metadata": {},
   "source": [
    "### 4. Ingredient Normalisation"
   ]
  },
  {
   "cell_type": "markdown",
   "id": "b1822387",
   "metadata": {},
   "source": [
    "in the persona text, we have a ton of ingredients, which should be normalised before using them "
   ]
  },
  {
   "cell_type": "code",
   "execution_count": 64,
   "id": "75e5e42a",
   "metadata": {},
   "outputs": [
    {
     "data": {
      "text/plain": [
       "{'likes': ['caramels'],\n",
       " 'dislikes': ['plain low - fat yogurt', 'strawberry yogurt']}"
      ]
     },
     "execution_count": 64,
     "metadata": {},
     "output_type": "execute_result"
    }
   ],
   "source": [
    "df_filtered['persona'].iloc[0]"
   ]
  },
  {
   "cell_type": "code",
   "execution_count": 65,
   "id": "0f1f17bd",
   "metadata": {},
   "outputs": [
    {
     "name": "stderr",
     "output_type": "stream",
     "text": [
      "2025-08-16 15:02:52,212 - foodrec.data.load_ingredient_embeddings - INFO - EmbeddingLoader initialized with path: /Users/noah/Documents/github/MultiAgentBiase/system/foodrec/config/dataset/ingredient_embeddings/ingredient_embeddings_ALL_RECIPE.csv\n",
      "2025-08-16 15:02:52,214 - foodrec.data.load_ingredient_embeddings - INFO - Starting embedding retrieval process...\n",
      "2025-08-16 15:02:52,215 - foodrec.data.load_ingredient_embeddings - INFO - ✓ Found existing embeddings file: /Users/noah/Documents/github/MultiAgentBiase/system/foodrec/config/dataset/ingredient_embeddings/ingredient_embeddings_ALL_RECIPE.csv\n",
      "2025-08-16 15:02:52,215 - foodrec.data.load_ingredient_embeddings - INFO - Loading existing embeddings...\n"
     ]
    },
    {
     "name": "stdout",
     "output_type": "stream",
     "text": [
      "####################Load Embeddings####################\n"
     ]
    }
   ],
   "source": [
    "normaliser = IngredientNormalisation(DatasetEnum.ALL_RECIPE)\n",
    "def ingredient_normalisation(persona):\n",
    "    likes = persona.get('likes', [])\n",
    "    dislikes = persona.get('dislikes', [])\n",
    "    likes_normalised = [normaliser.advanced_hybrid_search(ingredient)[0] for ingredient in likes]\n",
    "    dislikes_normalised = [normaliser.advanced_hybrid_search(ingredient)[0] for ingredient in dislikes]\n",
    "    persona['likes'] = likes_normalised\n",
    "    persona['dislikes'] = dislikes_normalised\n",
    "    return persona\n",
    "\n",
    "df_filtered['persona'] = df_filtered['persona'].apply(ingredient_normalisation)"
   ]
  },
  {
   "cell_type": "code",
   "execution_count": 67,
   "id": "3ff546c4",
   "metadata": {},
   "outputs": [],
   "source": [
    "df_filtered.insert(0, \"id\", range(1, len(df_filtered) + 1))\n",
    "df_filtered.to_csv(DATASET_PATHS / \"zw_personas.csv\", index=False)"
   ]
  },
  {
   "cell_type": "markdown",
   "id": "c657ba10",
   "metadata": {},
   "source": [
    "## Summary"
   ]
  },
  {
   "cell_type": "markdown",
   "id": "86a389fd",
   "metadata": {},
   "source": [
    "We got 100 real queries + personas from the Paper above, which we now can use to test our model. We added randomly cuisine and diet preferences and deleted stuff like low carb or high carbohydrates, because we want that it comes from the system itself"
   ]
  }
 ],
 "metadata": {
  "kernelspec": {
   "display_name": "myenv (3.11.8)",
   "language": "python",
   "name": "python3"
  },
  "language_info": {
   "codemirror_mode": {
    "name": "ipython",
    "version": 3
   },
   "file_extension": ".py",
   "mimetype": "text/x-python",
   "name": "python",
   "nbconvert_exporter": "python",
   "pygments_lexer": "ipython3",
   "version": "3.11.8"
  }
 },
 "nbformat": 4,
 "nbformat_minor": 5
}
