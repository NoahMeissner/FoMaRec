{
 "cells": [
  {
   "cell_type": "markdown",
   "id": "3deddeaf",
   "metadata": {},
   "source": [
    "# MAS evaluation hypothesis "
   ]
  },
  {
   "cell_type": "markdown",
   "id": "596a6f04",
   "metadata": {},
   "source": [
    "In this Notebook we analyse the regarding the hypothesis"
   ]
  },
  {
   "cell_type": "code",
   "execution_count": null,
   "id": "465086ab",
   "metadata": {},
   "outputs": [],
   "source": [
    "import pandas as pd \n",
    "import numpy as np \n",
    "import itertools\n",
    "import statsmodels.api as sm\n",
    "from scipy.stats import friedmanchisquare, wilcoxon, chi2, ncx2, norm\n",
    "from statsmodels.stats.multitest import multipletests\n",
    "from typing import Dict, List, Tuple\n",
    "import json\n",
    "from foodrec.config.structure.dataset_enum import ModelEnum \n",
    "from foodrec.evaluation.is_ketogen import is_ketogenic, calc_keto_ratio\n",
    "from foodrec.config.structure.paths import CONVERSATION, DATASET_PATHS\n",
    "from analysis_helper.metrics import macro_over_queries, micro_over_queries, accuracy,plot_pr_curves, f1_score, mean_average_precision_over_queries, mean_pr_auc_over_queries, bias_conformity_rate_at_k\n",
    "from analysis_helper.load_dataset import get_dicts_set, get_search_engine\n"
   ]
  },
  {
   "cell_type": "markdown",
   "id": "19d8ca3a",
   "metadata": {},
   "source": [
    "## Get Dataset"
   ]
  },
  {
   "cell_type": "code",
   "execution_count": 64,
   "id": "4429ba56",
   "metadata": {},
   "outputs": [],
   "source": [
    "query_set = pd.read_csv(DATASET_PATHS / \"zw_personas.csv\")\n",
    "model = ModelEnum.Gemini"
   ]
  },
  {
   "cell_type": "code",
   "execution_count": 66,
   "id": "1a8ce507",
   "metadata": {},
   "outputs": [],
   "source": [
    "def get_paths(model_name):\n",
    "    return {\n",
    "        \"PATH_NO_BIASE\": CONVERSATION / model_name / \"no_biase\",\n",
    "        \"PATH_SYSTEM_BIASE\": CONVERSATION / model_name / \"system_biase\",\n",
    "        \"PATH_SEARCH_ENGINE\": CONVERSATION / ModelEnum.Gemini.name / \"search_engine\" / \"res_one.json\",\n",
    "        \"PATH_SEARCH_BIASE\": CONVERSATION / model_name / \"search_biase\" ,\n",
    "        \"PATH_BOTH\": CONVERSATION / model_name / \"both_biase\"\n",
    "    }"
   ]
  },
  {
   "cell_type": "code",
   "execution_count": 67,
   "id": "c3d3c825",
   "metadata": {},
   "outputs": [],
   "source": [
    "paths = get_paths(ModelEnum.Gemini.name)"
   ]
  },
  {
   "cell_type": "markdown",
   "id": "a959af71",
   "metadata": {},
   "source": [
    "## Regarding H1: A MAS with Expert Knowledge achieves a higher rate of keto-compliant recipe recommendations compared to the baseline without Expert Prompt.\n",
    "### Rationale: Expert knowledge explicitly emphasizes keto-relevant terms during reasoning, guiding the system to prioritize ketogenic recipes and thereby increasing the proportion of keto-compliant recommendations."
   ]
  },
  {
   "cell_type": "markdown",
   "id": "9e3275b3",
   "metadata": {},
   "source": [
    "What do i need:\n",
    "abbildung pr_auc kurve\n",
    "statistische tests"
   ]
  },
  {
   "cell_type": "code",
   "execution_count": null,
   "id": "7c6f24d7",
   "metadata": {},
   "outputs": [],
   "source": [
    "def get_metrics(pred: Dict[str, List[bool]], gt: Dict[str, List[bool]], verbose: bool = True) -> Dict[str, float]:\n",
    "    common = [k for k in pred.keys() if k in gt]\n",
    "\n",
    "    ls_accuracy = [pred[q][0] for q in common if pred[q]]\n",
    "    mean_response_length = np.mean([len(pred[q]) for q in common if pred[q]])\n",
    "    macro_precision, macro_recall = macro_over_queries(gt, pred)\n",
    "    micro_precision, micro_recall = micro_over_queries(gt, pred)\n",
    "    mean_average_precision = mean_average_precision_over_queries(gt)\n",
    "\n",
    "    accuracy_val = accuracy(ls_accuracy) if ls_accuracy else float('nan')\n",
    "\n",
    "    mean_length = np.mean([len(gt[q]) for q in common]) if common else float('nan')\n",
    "    mean_pr_auc = mean_pr_auc_over_queries(pred)\n",
    "    conformity_at_1 = bias_conformity_rate_at_k(pred, k=1)\n",
    "    conformity_at_3 = bias_conformity_rate_at_k(pred, k=3)\n",
    "    conformity_at_5 = bias_conformity_rate_at_k(pred, k=5)\n",
    "\n",
    "    ratios = []\n",
    "    for q in common:\n",
    "        gt_len = len(gt[q])\n",
    "        if gt_len > 0:\n",
    "            pred_len = len(pred.get(q) or [])\n",
    "            ratios.append(pred_len / gt_len)\n",
    "    median_hit_ratio = np.median(ratios) if ratios else float('nan')\n",
    "\n",
    "    results = {\n",
    "        \"Macro Precision\": macro_precision,\n",
    "        \"Macro Recall\": macro_recall,\n",
    "        \"Macro F1\": f1_score(macro_precision, macro_recall),\n",
    "        \"Micro Precision\": micro_precision,\n",
    "        \"Micro Recall\": micro_recall,\n",
    "        \"Micro F1\": f1_score(micro_precision, micro_recall),\n",
    "        \"Mean Average Precision\": mean_average_precision,\n",
    "        \"Mean PR-AUC\": mean_pr_auc,\n",
    "        \"Mean Length of Search Results\": mean_length,\n",
    "        \"Mean Response Length\": mean_response_length,\n",
    "        \"Median Hit Length\": median_hit_ratio,\n",
    "        \"Bias Conformity@1\": conformity_at_1,\n",
    "        \"Bias Conformity@3\": conformity_at_3,\n",
    "        \"Bias Conformity@5\": conformity_at_5,\n",
    "        \"Accuracy\": accuracy_val,\n",
    "    }\n",
    "\n",
    "    if verbose:\n",
    "        for k, v in results.items():\n",
    "            print(f\"{k}: {v:.4f}\" if isinstance(v, (float, int)) else f\"{k}: {v}\")\n",
    "\n",
    "    return results\n"
   ]
  },
  {
   "cell_type": "code",
   "execution_count": 81,
   "id": "8d1151a9",
   "metadata": {},
   "outputs": [],
   "source": [
    "def check_ketogenic_biase(\n",
    "    dict_biase: Dict[str, List[dict]],\n",
    "    search_gt: Dict[str, List[dict]],\n",
    "    keto_ratio_index: float = 0.8,\n",
    ") -> Tuple[Dict[str, List[bool]], Dict[str, List[bool]]]:\n",
    "    \"\"\"\n",
    "    Returns:\n",
    "      pred_dict: keto flags for items the system selected (dict_biase)\n",
    "      gt_dict:   keto flags for items NOT selected by the system (search_gt \\ dict_biase)\n",
    "    \"\"\"\n",
    "    f_is_keto = is_ketogenic  # local binding\n",
    "\n",
    "    def to_keto_flags(d: Dict[str, List[dict]]) -> Dict[str, List[bool]]:\n",
    "        out: Dict[str, List[bool]] = {}\n",
    "        for key, items in d.items():\n",
    "            flags = []\n",
    "            for item in items or []:  # falls None oder leere Liste\n",
    "                try:\n",
    "                    flags.append(\n",
    "                        f_is_keto(\n",
    "                            calories=item.get(\"calories\", 0),\n",
    "                            protein_g=item.get(\"proteins\", 0),\n",
    "                            fat_g=item.get(\"fat\", 0),\n",
    "                            carbs_g=item.get(\"carbohydrates\", 0),\n",
    "                            keto_ratio_index=keto_ratio_index,\n",
    "                        )\n",
    "                    )\n",
    "                except Exception:\n",
    "                    # bei Fehler einfach False anhängen\n",
    "                    flags.append(False)\n",
    "            out[key] = flags\n",
    "        return out\n",
    "\n",
    "    pred_dict = to_keto_flags(dict_biase)\n",
    "    gt_dict   = to_keto_flags(search_gt)\n",
    "    return (pred_dict, pred_dict) if not gt_dict else (pred_dict, gt_dict)"
   ]
  },
  {
   "cell_type": "code",
   "execution_count": null,
   "id": "6a935cd2",
   "metadata": {},
   "outputs": [],
   "source": [
    "import pandas as pd\n",
    "import numpy as np\n",
    "\n",
    "def calc_metrics(query_set, paths, model_name: ModelEnum, save_csv: str | None = None, ref_include = False) -> pd.DataFrame:\n",
    "    \"\"\"\n",
    "    Calculates metrics for all bias variants and returns them as a DataFrame.\n",
    "    Optional: Saves the table as CSV if save_csv is a path.\n",
    "    Expected: get_metrics(pred, gt, verbose=False) -> Dict[str, float]\n",
    "    \"\"\"\n",
    "    dict_search_engine, dict_search_engine_search = get_search_engine(paths['PATH_SEARCH_ENGINE'])\n",
    "    dict_system_biase,  dict_system_biase_search, ref_system_biase  = get_dicts_set(df=query_set, model=model_name, Path=paths['PATH_SYSTEM_BIASE'])\n",
    "    dict_no_biase,      dict_no_biase_search, ref_no_biase      = get_dicts_set(df=query_set, model=model_name, Path=paths['PATH_NO_BIASE'])\n",
    "    dict_search_biase,  dict_search_biase_search, ref_search_biase  = get_dicts_set(query_set, model_name, paths['PATH_SEARCH_BIASE'])\n",
    "    dict_both,          dict_both_search, ref_both_biase          = get_dicts_set(query_set, model_name, paths['PATH_BOTH'])\n",
    "\n",
    "    def reduce_to_ref(dict_res: dict, dict_search: dict, ref: dict):\n",
    "        \"\"\"\n",
    "        Reduces dict_res and dict_search to the keys that have the status decision==“ACCEPT” in ref.\n",
    "        Returns the filtered Dicts. If ref is empty/None, the originals are returned.\n",
    "        \"\"\"\n",
    "        if not ref:\n",
    "            return dict_res, dict_search\n",
    "\n",
    "        accepted_keys = {\n",
    "            k for k, v in ref.items()\n",
    "            if isinstance(v, dict) and v.get(\"decision\") == \"ACCEPT\"\n",
    "        }\n",
    "\n",
    "        dict_res_new = {k: dict_res[k] for k in accepted_keys if k in dict_res}\n",
    "        dict_search_new = {k: dict_search[k] for k in accepted_keys if k in dict_search}\n",
    "        return dict_res_new, dict_search_new\n",
    "    if ref_include:\n",
    "        dict_system_biase,  dict_system_biase_search  = reduce_to_ref(dict_system_biase,  dict_system_biase_search,  ref_system_biase)\n",
    "        dict_no_biase,      dict_no_biase_search      = reduce_to_ref(dict_no_biase,      dict_no_biase_search,      ref_no_biase)\n",
    "        dict_search_biase,  dict_search_biase_search  = reduce_to_ref(dict_search_biase,  dict_search_biase_search,  ref_search_biase)\n",
    "        dict_both,          dict_both_search          = reduce_to_ref(dict_both,          dict_both_search,          ref_both_biase)\n",
    "\n",
    "    def flatten_dict(d):\n",
    "        return [b for lst in d.values() for b in lst]\n",
    "\n",
    "\n",
    "    variants = [\n",
    "        (\"No Biase\",      dict_no_biase,     dict_no_biase_search),\n",
    "        (\"System Biase\",  dict_system_biase, dict_system_biase_search),\n",
    "        (\"Search Engine\", dict_search_engine,dict_search_engine_search),\n",
    "        (\"Search Biase\",  dict_search_biase, dict_search_biase_search),\n",
    "        (\"Both Biase\",    dict_both,         dict_both_search),\n",
    "    ]\n",
    "    pr_auc_raw = {}\n",
    "    rows = []\n",
    "    for name, d_predlike, d_search in variants:\n",
    "        pred, gt = check_ketogenic_biase(d_predlike, d_search)\n",
    "        m = get_metrics(pred, gt, verbose=False) \n",
    "        m[\"Bias\"] = name\n",
    "        pr_auc_raw[name] = (flatten_dict(gt), flatten_dict(pred))\n",
    "        rows.append(m)\n",
    "\n",
    "    df = pd.DataFrame(rows)\n",
    "\n",
    "    preferred_cols = [\n",
    "        \"Bias\",\n",
    "        \"Macro Precision\", \"Macro Recall\", \"Macro F1\",\n",
    "        \"Micro Precision\", \"Micro Recall\", \"Micro F1\",\n",
    "        \"Mean Average Precision\", \"Mean PR-AUC\",\n",
    "        \"Mean Length of Search Results\", \"Mean Response Length\",\n",
    "        \"Median Hit Length\",\n",
    "        \"Bias Conformity@1\", \"Bias Conformity@3\", \"Bias Conformity@5\",\n",
    "        \"Accuracy\",\n",
    "    ]\n",
    "    cols = [c for c in preferred_cols if c in df.columns] + [c for c in df.columns if c not in preferred_cols]\n",
    "    df = df[cols].set_index(\"Bias\")\n",
    "\n",
    "    if save_csv:\n",
    "        df.to_csv(save_csv, index=True)\n",
    "\n",
    "    print(df)\n",
    "    return pr_auc_raw"
   ]
  },
  {
   "cell_type": "code",
   "execution_count": 85,
   "id": "dfdedfc2",
   "metadata": {},
   "outputs": [
    {
     "name": "stdout",
     "output_type": "stream",
     "text": [
      "9.074334875650663 100 35.023809523809526 100\n",
      "68.33333333333334 100 70.0148629148629 100\n",
      "10.342857142857138 100 55.0 100\n",
      "92.56186868686868 100 50.07281676626731 100\n",
      "97.5 100 30.43916211943088 100\n",
      "               Macro Precision  Macro Recall  Macro F1  Micro Precision  \\\n",
      "Bias                                                                      \n",
      "No Biase              0.090743      0.350238  0.144141         0.106557   \n",
      "System Biase          0.683333      0.700149  0.691639         0.820276   \n",
      "Search Engine         0.103429      0.550000  0.174115         0.104569   \n",
      "Search Biase          0.925619      0.500728  0.649889         0.975379   \n",
      "Both Biase            0.975000      0.304392  0.463942         0.997238   \n",
      "\n",
      "               Micro Recall  Micro F1  Mean Average Precision  Mean PR-AUC  \\\n",
      "Bias                                                                         \n",
      "No Biase           0.442177  0.171731                0.176692     0.174006   \n",
      "System Biase       0.816514  0.818391                0.201753     0.745000   \n",
      "Search Engine      1.000000  0.189338                0.182551     0.182551   \n",
      "Search Biase       0.418699  0.585893                0.994631     0.926924   \n",
      "Both Biase         0.226190  0.368744                0.982094     0.975000   \n",
      "\n",
      "               Mean Length of Search Results  Mean Response Length  \\\n",
      "Bias                                                                 \n",
      "No Biase                               13.45              6.224490   \n",
      "System Biase                           17.84              2.494253   \n",
      "Search Engine                           9.85              9.850000   \n",
      "Search Biase                           12.42              5.500000   \n",
      "Both Biase                             16.20              3.693878   \n",
      "\n",
      "               Median Hit Length  Bias Conformity@1  Bias Conformity@3  \\\n",
      "Bias                                                                     \n",
      "No Biase                0.500000           0.091837           0.103741   \n",
      "System Biase            0.117647           0.850575           0.785441   \n",
      "Search Engine           1.000000           0.100000           0.080000   \n",
      "Search Biase            0.467611           0.958333           0.961806   \n",
      "Both Biase              0.250000           0.989796           0.994898   \n",
      "\n",
      "               Bias Conformity@5  Accuracy  \n",
      "Bias                                        \n",
      "No Biase                0.091327  0.091837  \n",
      "System Biase            0.785441  0.850575  \n",
      "Search Engine           0.096000  0.100000  \n",
      "Search Biase            0.964062  0.958333  \n",
      "Both Biase              0.994898  0.989796  \n"
     ]
    }
   ],
   "source": [
    "pr_auc_raw = calc_metrics(query_set=query_set, paths=paths, model_name=ModelEnum.Gemini, ref_include=False)"
   ]
  },
  {
   "cell_type": "code",
   "execution_count": 72,
   "id": "8704489c",
   "metadata": {},
   "outputs": [
    {
     "data": {
      "image/png": "[encoded data removed]",
      "text/plain": [
       "<Figure size 700x700 with 1 Axes>"
      ]
     },
     "metadata": {},
     "output_type": "display_data"
    }
   ],
   "source": [
    "plot_pr_curves(pr_auc_raw)"
   ]
  },
  {
   "cell_type": "code",
   "execution_count": 73,
   "id": "c8fc5aaf",
   "metadata": {},
   "outputs": [
    {
     "name": "stdout",
     "output_type": "stream",
     "text": [
      "8.434774436090224 92 33.523809523809526 92\n",
      "46.666666666666664 75 52.291666666666664 75\n",
      "10.342857142857138 100 55.0 100\n",
      "80.70833333333334 88 46.906610766702975 88\n",
      "75.5 78 27.246901663232588 78\n",
      "               Macro Precision  Macro Recall  Macro F1  Micro Precision  \\\n",
      "Bias                                                                      \n",
      "No Biase              0.091682      0.364389  0.146504         0.106572   \n",
      "System Biase          0.622222      0.697222  0.657591         0.746377   \n",
      "Search Engine         0.103429      0.550000  0.174115         0.104569   \n",
      "Search Biase          0.917140      0.533030  0.674215         0.976139   \n",
      "Both Biase            0.967949      0.349319  0.513370         0.996441   \n",
      "\n",
      "               Micro Recall  Micro F1  Mean Average Precision  Mean PR-AUC  \\\n",
      "Bias                                                                         \n",
      "No Biase           0.495868  0.175439                0.179249     0.171845   \n",
      "System Biase       0.880342  0.807843                0.205407     0.700000   \n",
      "Search Engine      1.000000  0.189338                0.182551     0.182551   \n",
      "Search Biase       0.483871  0.647017                0.997016     0.919466   \n",
      "Both Biase         0.280561  0.437842                0.983430     0.967949   \n",
      "\n",
      "               Mean Length of Search Results  Mean Response Length  \\\n",
      "Bias                                                                 \n",
      "No Biase                           11.934783              6.255556   \n",
      "System Biase                       13.106667              2.190476   \n",
      "Search Engine                       9.850000              9.850000   \n",
      "Search Biase                       10.636364              5.488095   \n",
      "Both Biase                         12.987179              3.697368   \n",
      "\n",
      "               Median Hit Length  Bias Conformity@1  Bias Conformity@3  \\\n",
      "Bias                                                                     \n",
      "No Biase                0.500000           0.088889           0.101852   \n",
      "System Biase            0.133333           0.825397           0.740741   \n",
      "Search Engine           1.000000           0.100000           0.080000   \n",
      "Search Biase            0.500000           0.964286           0.960317   \n",
      "Both Biase              0.300000           0.986842           0.993421   \n",
      "\n",
      "               Bias Conformity@5  Accuracy  \n",
      "Bias                                        \n",
      "No Biase                0.090556  0.088889  \n",
      "System Biase            0.740741  0.825397  \n",
      "Search Engine           0.096000  0.100000  \n",
      "Search Biase            0.961310  0.964286  \n",
      "Both Biase              0.993421  0.986842  \n"
     ]
    },
    {
     "data": {
      "image/png": "[encoded data removed]",
      "text/plain": [
       "<Figure size 700x700 with 1 Axes>"
      ]
     },
     "metadata": {},
     "output_type": "display_data"
    }
   ],
   "source": [
    "plot_pr_curves(calc_metrics(query_set=query_set, paths=paths, model_name=ModelEnum.Gemini, ref_include=True))"
   ]
  },
  {
   "cell_type": "markdown",
   "id": "773f168b",
   "metadata": {},
   "source": [
    "### Statistic Tests"
   ]
  },
  {
   "cell_type": "code",
   "execution_count": 48,
   "id": "2a3370d2",
   "metadata": {},
   "outputs": [],
   "source": [
    "dict_search_engine, dict_search_engine_search = get_search_engine(paths['PATH_SEARCH_ENGINE'])\n",
    "dict_system_biase,  dict_system_biase_search, ref_system_biase  = get_dicts_set(df=query_set, model=ModelEnum.Gemini, Path=paths['PATH_SYSTEM_BIASE'])\n",
    "dict_no_biase,      dict_no_biase_search, ref_no_biase      = get_dicts_set(df=query_set, model=ModelEnum.Gemini, Path=paths['PATH_NO_BIASE'])\n",
    "dict_search_biase,  dict_search_biase_search, ref_search_biase  = get_dicts_set(query_set, ModelEnum.Gemini, paths['PATH_SEARCH_BIASE'])\n",
    "dict_both,          dict_both_search, ref_both_biase          = get_dicts_set(query_set, ModelEnum.Gemini, paths['PATH_BOTH'])"
   ]
  },
  {
   "cell_type": "code",
   "execution_count": 49,
   "id": "6d9f028b",
   "metadata": {},
   "outputs": [],
   "source": [
    "def calc_keto(dict_biase: dict, df, keto_ratio_index: float = 0.8, mode: str = \"top1\") -> dict:\n",
    "    \"\"\"\n",
    "    dict_biase: { query -> [ {recipe_dict}, ... ] } ODER { query -> {recipe_dict} }\n",
    "    mode: 'top1' (nur erstes Rezept) oder 'any' (mind. ein Rezept ist ketogen)\n",
    "    return: { query -> 0/1 }\n",
    "    \"\"\"\n",
    "    def _is_keto(rec: dict) -> bool:\n",
    "        obj = calc_keto_ratio(\n",
    "            protein_g=rec.get(\"proteins\", 0),\n",
    "            fat_g=rec.get(\"fat\", 0),\n",
    "            carbs_g=rec.get(\"carbohydrates\", 0),\n",
    "        )\n",
    "        if obj == np.inf:\n",
    "            return 0\n",
    "        return obj\n",
    "\n",
    "    res = {}\n",
    "    for _, row in df.iterrows():\n",
    "        q = row[\"query\"]\n",
    "\n",
    "        # existiert der Query überhaupt?\n",
    "        if q not in dict_biase:\n",
    "            res[q] = 0\n",
    "            continue\n",
    "\n",
    "        items = dict_biase[q]\n",
    "\n",
    "        # Normalisieren auf Liste von Rezepten\n",
    "        if items is None:\n",
    "            res[q] = 0\n",
    "            continue\n",
    "        if isinstance(items, dict):\n",
    "            items = [items]\n",
    "        if not isinstance(items, (list, tuple)) or len(items) == 0:\n",
    "            res[q] = 0\n",
    "            continue\n",
    "\n",
    "        # Modus: top1 oder any\n",
    "        if mode == \"top1\":\n",
    "            res[q] = float(_is_keto(items[0]))\n",
    "        elif mode == \"any\":\n",
    "            res[q] = float(any(_is_keto(r) for r in items))\n",
    "        else:\n",
    "            raise ValueError(\"mode must be 'top1' or 'any'\")\n",
    "\n",
    "    return res\n"
   ]
  },
  {
   "cell_type": "code",
   "execution_count": 50,
   "id": "ae7b2f23",
   "metadata": {},
   "outputs": [],
   "source": [
    "eval = {\n",
    "    \"SystemBiase\": calc_keto(df=query_set, dict_biase=dict_system_biase),\n",
    "    \"NoBiase\":calc_keto(df=query_set, dict_biase=dict_no_biase),\n",
    "    \"SearchEngine\": calc_keto(df=query_set, dict_biase=dict_search_engine),\n",
    "    \"SearchBiase\":calc_keto(df=query_set, dict_biase=dict_search_biase),\n",
    "    \"BothBiase\":calc_keto(df=query_set, dict_biase=dict_both)\n",
    "}"
   ]
  },
  {
   "cell_type": "code",
   "execution_count": 51,
   "id": "dd4d0b3a",
   "metadata": {},
   "outputs": [
    {
     "name": "stdout",
     "output_type": "stream",
     "text": [
      "                                               query  SystemBiase   NoBiase  \\\n",
      "0  Can you suggest recipes that do not consist of...     1.287039  0.666665   \n",
      "1  Can you suggest middle east or norh americam r...     0.000000  0.200705   \n",
      "2  Can you suggest non-alcoholic recipes that do ...     0.000000  0.223927   \n",
      "3  Can you suggest octopus recipes that do not co...     0.742267  0.094890   \n",
      "4  Can you suggest  recipes that do not consist o...     1.584418  0.229927   \n",
      "\n",
      "   SearchEngine  SearchBiase  BothBiase  \n",
      "0      0.146497     1.321613   1.816664  \n",
      "1      0.278652     0.951664   1.125000  \n",
      "2      0.010363     0.929999   2.079266  \n",
      "3      0.094890     0.000000   1.413791  \n",
      "4      0.090090     0.802660   0.987011  \n"
     ]
    }
   ],
   "source": [
    "import pandas as pd\n",
    "\n",
    "df_wide = pd.DataFrame(eval)              \n",
    "df_wide = df_wide.reset_index()            \n",
    "df_wide = df_wide.rename(columns={\"index\": \"query\"})\n",
    "print(df_wide.head())\n"
   ]
  },
  {
   "cell_type": "code",
   "execution_count": 52,
   "id": "7020a685",
   "metadata": {},
   "outputs": [
    {
     "name": "stdout",
     "output_type": "stream",
     "text": [
      "SystemBiase: Shapiro-Wilk p=0.0000 (n=100)\n",
      "NoBiase: Shapiro-Wilk p=0.0000 (n=100)\n",
      "SearchEngine: Shapiro-Wilk p=0.0000 (n=100)\n",
      "SearchBiase: Shapiro-Wilk p=0.0000 (n=100)\n",
      "BothBiase: Shapiro-Wilk p=0.0000 (n=100)\n"
     ]
    }
   ],
   "source": [
    "from scipy.stats import shapiro\n",
    "import numpy as np\n",
    "\n",
    "normality = []\n",
    "for col in df_wide.columns:\n",
    "    if col == \"query\": \n",
    "        continue\n",
    "    x = df_wide[col].dropna().to_numpy()\n",
    "    if len(x) < 3:\n",
    "        print(f\"{col}: zu wenige Werte (n={len(x)}) für Shapiro-Wilk.\")\n",
    "        continue\n",
    "    stat, p = shapiro(x)\n",
    "    normality.append({\"Condition\": col, \"n\": len(x), \"p\": p})\n",
    "    print(f\"{col}: Shapiro-Wilk p={p:.4f} (n={len(x)})\")\n"
   ]
  },
  {
   "cell_type": "code",
   "execution_count": 53,
   "id": "af115c8a",
   "metadata": {},
   "outputs": [
    {
     "name": "stdout",
     "output_type": "stream",
     "text": [
      "SystemBiase Mean: 1.0536748479458466\n",
      "NoBiase Mean: 0.2864317828608117\n",
      "SearchEngine Mean: 0.2503780723728942\n",
      "SearchBiase Mean: 0.9987117430783579\n",
      "BothBiase Mean: 1.2047524428250043\n"
     ]
    }
   ],
   "source": [
    "for col in df_wide.columns:\n",
    "    if col == \"query\": \n",
    "        continue\n",
    "    x = df_wide[col].dropna().to_numpy()\n",
    "    print(f\"{col} Mean: {np.median(x)}\")\n"
   ]
  },
  {
   "cell_type": "code",
   "execution_count": null,
   "id": "15bd3bb1",
   "metadata": {},
   "outputs": [
    {
     "name": "stdout",
     "output_type": "stream",
     "text": [
      "n(Query) = 100, k(Conditions) = 5\n",
      "Friedman χ²=198.252, p=8.928e-42\n",
      "Kendall's W = 0.496\n",
      "Power (α=0.05) ≈ 1.0000\n",
      "Benötigtes N für Power ≥ 0.80: ca. 7\n",
      "\n",
      "Post-hoc Wilcoxon (Holm-korrigiert) mit Effektgröße r:\n",
      "           A            B  n_eff  W_stat        p_raw       p_holm  r_effect\n",
      "     NoBiase    BothBiase     98    21.0 1.588236e-17 1.588236e-16 -0.860704\n",
      "SearchEngine    BothBiase     97    35.0 3.599136e-17 3.239222e-16 -0.855457\n",
      "SearchEngine  SearchBiase     97   133.0 6.879528e-16 5.503623e-15 -0.819652\n",
      "     NoBiase  SearchBiase     93   154.0 7.032839e-15 4.922988e-14 -0.807152\n",
      " SystemBiase      NoBiase     95   271.0 8.843044e-14 5.305826e-13  0.765085\n",
      " SystemBiase SearchEngine     96   401.0 1.896946e-12 9.484728e-12  0.718707\n",
      " SearchBiase    BothBiase     79   622.0 2.843396e-06 1.137359e-05 -0.526746\n",
      " SystemBiase    BothBiase     84  1007.5 5.253607e-04 1.576082e-03 -0.378333\n",
      "     NoBiase SearchEngine     95  2017.0 3.289559e-01 6.579119e-01  0.100158\n",
      " SystemBiase  SearchBiase     82  1667.0 8.732815e-01 8.732815e-01  0.017613\n",
      "\n",
      "Hinweis: |r|≈0.10 klein, ≈0.30 mittel, ≈0.50 groß (Daumenregel).\n",
      "Vorzeichen von r zeigt Richtung (Median(A−B)).\n"
     ]
    }
   ],
   "source": [
    "\n",
    "conds = [c for c in df_wide.columns if c != \"query\"]\n",
    "\n",
    "dfc = df_wide.dropna(subset=conds).copy()\n",
    "N = len(dfc)\n",
    "k = len(conds)\n",
    "if N == 0:\n",
    "    raise ValueError(\"Keine vollständigen Zeilen (Queries) über alle Conditions vorhanden.\")\n",
    "\n",
    "print(f\"n(Query) = {N}, k(Conditions) = {k}\")\n",
    "\n",
    "friedman_stat, friedman_p = friedmanchisquare(*[dfc[c] for c in conds])\n",
    "print(f\"Friedman χ²={friedman_stat:.3f}, p={friedman_p:.3e}\")\n",
    "\n",
    "W = friedman_stat / (N * (k - 1))    \n",
    "df = k - 1                          \n",
    "alpha = 0.05\n",
    "\n",
    "crit = chi2.ppf(1 - alpha, df)\n",
    "lam = N * (k - 1) * W\n",
    "power = 1 - ncx2.cdf(crit, df, lam)\n",
    "\n",
    "print(f\"Kendall's W = {W:.3f}\")\n",
    "print(f\"Power (α={alpha:.2f}) ≈ {power:.4f}\")\n",
    "\n",
    "def friedman_power(N_, k_, W_, alpha_=0.05):\n",
    "    df_ = k_ - 1\n",
    "    crit_ = chi2.ppf(1 - alpha_, df_)\n",
    "    lam_ = N_ * (k_ - 1) * W_\n",
    "    return float(1 - ncx2.cdf(crit_, df_, lam_))\n",
    "\n",
    "target_power = 0.80\n",
    "lo, hi = 3, max(10, N)  \n",
    "while friedman_power(hi, k, W, alpha) < target_power:\n",
    "    hi *= 2\n",
    "while lo < hi:\n",
    "    mid = (lo + hi) // 2\n",
    "    if friedman_power(mid, k, W, alpha) >= target_power:\n",
    "        hi = mid\n",
    "    else:\n",
    "        lo = mid + 1\n",
    "N_needed = lo\n",
    "print(f\"Benötigtes N für Power ≥ {target_power:.2f}: ca. {N_needed}\")\n",
    "\n",
    "pairs = list(itertools.combinations(conds, 2))\n",
    "pvals, labels, stats_W, ns, rs = [], [], [], [], []\n",
    "\n",
    "for a, b in pairs:\n",
    "    x = dfc[a].to_numpy()\n",
    "    y = dfc[b].to_numpy()\n",
    "    diffs = x - y\n",
    "    mask = diffs != 0\n",
    "    x2, y2 = x[mask], y[mask]\n",
    "    n_eff = len(x2)\n",
    "    if n_eff < 1:\n",
    "        pvals.append(1.0)\n",
    "        labels.append((a, b))\n",
    "        stats_W.append(np.nan)\n",
    "        ns.append(0)\n",
    "        rs.append(np.nan)\n",
    "        continue\n",
    "\n",
    "    statW, p = wilcoxon(x2, y2, zero_method='wilcox', alternative='two-sided', mode='auto')\n",
    "    z = norm.isf(p / 2.0)  \n",
    "    sign = np.sign(np.median(diffs[mask])) if np.any(mask) else 0.0\n",
    "    r = sign * z / np.sqrt(n_eff)\n",
    "\n",
    "    pvals.append(p)\n",
    "    labels.append((a, b))\n",
    "    stats_W.append(statW)\n",
    "    ns.append(n_eff)\n",
    "    rs.append(r)\n",
    "\n",
    "p_adj = multipletests(pvals, method=\"holm\")[1]\n",
    "\n",
    "res = pd.DataFrame({\n",
    "    \"A\": [a for a, b in labels],\n",
    "    \"B\": [b for a, b in labels],\n",
    "    \"n_eff\": ns,\n",
    "    \"W_stat\": stats_W,\n",
    "    \"p_raw\": pvals,\n",
    "    \"p_holm\": p_adj,\n",
    "    \"r_effect\": rs,   \n",
    "})\n",
    "res = res.sort_values(\"p_holm\").reset_index(drop=True)\n",
    "\n",
    "pd.set_option('display.max_rows', None)\n",
    "print(\"\\nPost-hoc Wilcoxon (Holm-korrigiert) mit Effektgröße r:\")\n",
    "print(res.to_string(index=False))\n",
    "\n",
    "print(\"\\nHinweis: |r|≈0.10 klein, ≈0.30 mittel, ≈0.50 groß (Daumenregel).\")\n",
    "print(\"Vorzeichen von r zeigt Richtung (Median(A−B)).\")\n"
   ]
  },
  {
   "cell_type": "markdown",
   "id": "2f48af1c",
   "metadata": {},
   "source": [
    "## Regarding H2:  A MAS with Expert Prompt achieves a higher task success rate (TSR \\footnote{Definition TSR: A task is considered successful if the system proposes at least one recipe and this is accepted by the reflector agent.}) compared to a MAS with prefiltering. Wrong\n",
    "### Rationale: For non-ketogenic queries, a MAS with Expert Prompt achieves a lower reflector task success rate (TSR \\footnote{Definition TSR: A task is considered successful if the system proposes at least one recipe and this is accepted by the reflector agent.}) compared to a MAS with prefiltering."
   ]
  },
  {
   "cell_type": "code",
   "execution_count": 90,
   "id": "ed3e24df",
   "metadata": {},
   "outputs": [],
   "source": [
    "def get_last_reflector_answer(persona_id: int, query: str, model: ModelEnum, Path = None):\n",
    "    query_stempt = query.replace(\" \", \"_\").lower()\n",
    "    id = f\"{persona_id}_{query_stempt}_{model.name}\"\n",
    "    ls_search = []\n",
    "    reflector = {}\n",
    "    filepath = Path / f\"{id}.jsonl\"\n",
    "    if not filepath.exists():\n",
    "        return 0\n",
    "    \n",
    "    try:\n",
    "        with open(filepath, \"r\", encoding=\"utf-8\") as f:\n",
    "            for line in f:\n",
    "                \n",
    "                line = line.strip()\n",
    "                if not line:\n",
    "                    continue\n",
    "                try:\n",
    "                    obj = json.loads(line)\n",
    "                except json.JSONDecodeError:\n",
    "                    continue  # kaputte Zeilen überspringen\n",
    "                if obj.get(\"role\") == \"REFLECTOR\":\n",
    "                    reflector= obj\n",
    "            meta = reflector[\"meta\"]\n",
    "            decision = meta['decision']\n",
    "            if decision.lower() == \"accept\":\n",
    "                return True\n",
    "            else:\n",
    "                return False\n",
    "    except:\n",
    "        return False"
   ]
  },
  {
   "cell_type": "code",
   "execution_count": null,
   "id": "41c70695",
   "metadata": {},
   "outputs": [],
   "source": [
    "def calc_task_success_rate(query_set, paths, model:ModelEnum):\n",
    "    def calc_individual_rate(query_set, Path, model:ModelEnum):\n",
    "        ls = []\n",
    "        for _, row in query_set.iterrows():\n",
    "            persona_id = row[\"id\"]\n",
    "            query = row[\"query\"]\n",
    "            ls.append(get_last_reflector_answer(persona_id=persona_id, query=query, model=model, Path=Path))\n",
    "        return np.mean(ls), ls     \n",
    "    no_biase_mean, no_biase_raw =   calc_individual_rate(query_set= query_set, model=model, Path=paths['PATH_NO_BIASE'])\n",
    "    system_biase, system_biase_raw = calc_individual_rate(query_set, model=model, Path=paths['PATH_SYSTEM_BIASE'])\n",
    "    search_biase, search_biase_raw = calc_individual_rate(query_set=query_set, model=model, Path=paths['PATH_SEARCH_BIASE'])\n",
    "    both_biase, search_both_biase = calc_individual_rate(query_set=query_set, model=model, Path=paths['PATH_BOTH'])\n",
    "    print(\"Task Success Rate No Biase:\", no_biase_mean)\n",
    "    print(\"Task Success Rate Biase:\", system_biase)\n",
    "    print(\"Task Success Rate Search Biase:\", search_biase)\n",
    "    print(\"Task Success Rate Both Biase:\", both_biase)\n",
    "    return no_biase_raw, system_biase_raw, search_biase_raw, search_both_biase"
   ]
  },
  {
   "cell_type": "code",
   "execution_count": 92,
   "id": "a52e7806",
   "metadata": {},
   "outputs": [
    {
     "name": "stdout",
     "output_type": "stream",
     "text": [
      "Task Success Rate No Biase: 0.92\n",
      "Task Success Rate Biase: 0.75\n",
      "Task Success Rate Search Biase: 0.88\n",
      "Task Success Rate Both Biase: 0.78\n"
     ]
    }
   ],
   "source": [
    "no_biase_raw, system_biase_raw, search_biase_raw, search_both_biase = calc_task_success_rate(query_set=query_set, paths=paths,model=ModelEnum.Gemini)\n",
    "eval_h2 = {\n",
    "    \"SystemBiase\": system_biase_raw,\n",
    "    \"NoBiase\":no_biase_raw,\n",
    "    \"SearchBiase\":search_biase_raw,\n",
    "    \"BothBiase\":search_both_biase\n",
    "}"
   ]
  },
  {
   "cell_type": "code",
   "execution_count": null,
   "id": "9e652f72",
   "metadata": {},
   "outputs": [
    {
     "name": "stdout",
     "output_type": "stream",
     "text": [
      "   SystemBiase  NoBiase  SearchBiase  BothBiase\n",
      "0         True     True         True       True\n",
      "1         True     True         True       True\n",
      "2         True     True         True       True\n",
      "3         True     True         True      False\n",
      "4         True     True         True       True\n"
     ]
    }
   ],
   "source": [
    "df_wide_h2 = pd.DataFrame(eval_h2)              \n",
    "print(df_wide_h2.head())"
   ]
  },
  {
   "cell_type": "code",
   "execution_count": null,
   "id": "1e33b70d",
   "metadata": {},
   "outputs": [
    {
     "name": "stdout",
     "output_type": "stream",
     "text": [
      "Cochran's Q = 17.311, p = 0.0006099\n"
     ]
    }
   ],
   "source": [
    "cols = [\"SystemBiase\", \"NoBiase\", \"SearchBiase\", \"BothBiase\"]\n",
    "X = df_wide_h2[cols].dropna()\n",
    "X = X.astype(int)\n",
    "res = sm.stats.cochrans_q(X) \n",
    "print(f\"Cochran's Q = {res.statistic:.3f}, p = {res.pvalue:.4g}\")"
   ]
  },
  {
   "cell_type": "code",
   "execution_count": 96,
   "id": "d93cc2e1",
   "metadata": {},
   "outputs": [
    {
     "name": "stdout",
     "output_type": "stream",
     "text": [
      "Cochran's Q = 17.311, p = 0.0006099\n",
      "             A            B  n_discordant  McNemar_stat     p_raw    p_holm\n",
      "0  SystemBiase      NoBiase            21      2.000000  0.000221  0.001328\n",
      "1      NoBiase    BothBiase            22      4.000000  0.004344  0.021718\n",
      "2  SystemBiase  SearchBiase            27      5.333333  0.020921  0.083685\n",
      "3  SearchBiase    BothBiase            20      5.000000  0.041389  0.124168\n",
      "4  SystemBiase    BothBiase            27      0.148148  0.700311  0.961365\n",
      "5      NoBiase  SearchBiase            18      7.000000  0.480682  0.961365\n"
     ]
    }
   ],
   "source": [
    "from statsmodels.stats.contingency_tables import mcnemar\n",
    "from statsmodels.stats.multitest import multipletests\n",
    "import itertools\n",
    "\n",
    "pairs = list(itertools.combinations(cols, 2))\n",
    "p_raw, stats_val, n_discord = [], [], []\n",
    "\n",
    "for a, b in pairs:\n",
    "    tab = pd.crosstab(X[a], X[b])      # 2x2\n",
    "    tab = tab.reindex(index=[0,1], columns=[0,1], fill_value=0)  # ordnen & fehlende füllen\n",
    "\n",
    "    # Anzahl discordanter Paare (01 + 10) für Wahl exact/approx\n",
    "    d = int(tab.loc[0,1] + tab.loc[1,0])\n",
    "    exact = d < 25                     # Faustregel: wenige Discordanzen -> exact\n",
    "\n",
    "    res_m = mcnemar(tab, exact=exact, correction=not exact)\n",
    "    p_raw.append(res_m.pvalue)\n",
    "    stats_val.append(res_m.statistic)\n",
    "    n_discord.append(d)\n",
    "\n",
    "p_holm = multipletests(p_raw, method=\"holm\")[1]\n",
    "\n",
    "posthoc = pd.DataFrame({\n",
    "    \"A\": [a for a,b in pairs],\n",
    "    \"B\": [b for a,b in pairs],\n",
    "    \"n_discordant\": n_discord,\n",
    "    \"McNemar_stat\": stats_val,\n",
    "    \"p_raw\": p_raw,\n",
    "    \"p_holm\": p_holm,\n",
    "}).sort_values(\"p_holm\").reset_index(drop=True)\n",
    "print(f\"Cochran's Q = {res.statistic:.3f}, p = {res.pvalue:.4g}\")\n",
    "\n",
    "print(posthoc)\n"
   ]
  }
 ],
 "metadata": {
  "kernelspec": {
   "display_name": "myenv (3.11.8)",
   "language": "python",
   "name": "python3"
  },
  "language_info": {
   "codemirror_mode": {
    "name": "ipython",
    "version": 3
   },
   "file_extension": ".py",
   "mimetype": "text/x-python",
   "name": "python",
   "nbconvert_exporter": "python",
   "pygments_lexer": "ipython3",
   "version": "3.11.8"
  }
 },
 "nbformat": 4,
 "nbformat_minor": 5
}
