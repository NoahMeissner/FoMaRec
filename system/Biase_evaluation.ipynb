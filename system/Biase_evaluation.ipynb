{
 "cells": [
  {
   "cell_type": "markdown",
   "id": "62871b7b",
   "metadata": {},
   "source": [
    "# Evaluation of the Mulit Agent System "
   ]
  },
  {
   "cell_type": "markdown",
   "id": "29f4f811",
   "metadata": {},
   "source": [
    "This file is responsible for the evaluation of the Multi Agent System"
   ]
  },
  {
   "cell_type": "code",
   "execution_count": null,
   "id": "7b46dbac",
   "metadata": {},
   "outputs": [],
   "source": [
    "import pandas as pd \n",
    "import numpy as np \n",
    "from foodrec.config.structure.dataset_enum import ModelEnum \n",
    "from foodrec.evaluation.create_dataset import create_dataset\n",
    "from foodrec.evaluation.is_ketogen import is_ketogenic, calc_keto_ratio\n",
    "from foodrec.config.structure.paths import CONVERSATION, DATASET_PATHS\n",
    "import json\n",
    "from foodrec.evaluation.metrics.metrics import macro_over_queries, micro_over_queries, accuracy, f1_score, mean_average_precision_over_queries\n",
    "from foodrec.data.all_recipe import AllRecipeLoader\n",
    "from typing import Dict, List, Any, Tuple"
   ]
  },
  {
   "cell_type": "code",
   "execution_count": 2,
   "id": "a6fc0776",
   "metadata": {},
   "outputs": [],
   "source": [
    "def check_availability(persona_id: int, query: str, model: ModelEnum, Path = None):\n",
    "    query_stempt = query.replace(\" \", \"_\").lower()\n",
    "    id = f\"{persona_id}_{query_stempt}_{model.name}\"\n",
    "    ls_search = []\n",
    "    filepath = Path / f\"{id}.jsonl\"\n",
    "    if not filepath.exists():\n",
    "        return None\n",
    "    \n",
    "    try:\n",
    "        with open(filepath, \"r\", encoding=\"utf-8\") as f:\n",
    "            for line in f:\n",
    "                line = line.strip()\n",
    "                if not line:\n",
    "                    continue\n",
    "                try:\n",
    "                    obj = json.loads(line)\n",
    "                except json.JSONDecodeError:\n",
    "                    continue  # kaputte Zeilen überspringen\n",
    "                if obj.get(\"role\") == \"assistant\":\n",
    "                    return [obj.get(\"content\"), ls_search]\n",
    "                if obj.get(\"role\") == \"Search_Results\":\n",
    "                    zw_res = obj.get(\"meta\", [])\n",
    "                    if len(zw_res) > len(ls_search):\n",
    "                        ls_search = zw_res\n",
    "    except:\n",
    "        return None\n",
    "    \n",
    "    return None\n"
   ]
  },
  {
   "cell_type": "markdown",
   "id": "25ffc76c",
   "metadata": {},
   "source": [
    "## How many Ketogen in All Recipe"
   ]
  },
  {
   "cell_type": "code",
   "execution_count": 21,
   "id": "e9a5057d",
   "metadata": {},
   "outputs": [],
   "source": [
    "AL = AllRecipeLoader()\n",
    "dataset = AL.load_dataset()"
   ]
  },
  {
   "cell_type": "code",
   "execution_count": 22,
   "id": "10b826dd",
   "metadata": {},
   "outputs": [
    {
     "data": {
      "text/html": [
       "<div>\n",
       "<style scoped>\n",
       "    .dataframe tbody tr th:only-of-type {\n",
       "        vertical-align: middle;\n",
       "    }\n",
       "\n",
       "    .dataframe tbody tr th {\n",
       "        vertical-align: top;\n",
       "    }\n",
       "\n",
       "    .dataframe thead th {\n",
       "        text-align: right;\n",
       "    }\n",
       "</style>\n",
       "<table border=\"1\" class=\"dataframe\">\n",
       "  <thead>\n",
       "    <tr style=\"text-align: right;\">\n",
       "      <th></th>\n",
       "      <th>recipe_href</th>\n",
       "      <th>recipe_name</th>\n",
       "      <th>description</th>\n",
       "      <th>rating_rate</th>\n",
       "      <th>ingredients_normalized</th>\n",
       "      <th>tutorial</th>\n",
       "      <th>cooking_time</th>\n",
       "      <th>protein</th>\n",
       "      <th>carbohydrates</th>\n",
       "      <th>fat</th>\n",
       "      <th>kcal</th>\n",
       "    </tr>\n",
       "  </thead>\n",
       "  <tbody>\n",
       "    <tr>\n",
       "      <th>0</th>\n",
       "      <td>http://allrecipes.com/recipe/1-2-3-cheddar-bro...</td>\n",
       "      <td>1-2-3 Cheddar Broccoli Casserole</td>\n",
       "      <td>'Serve this casserole over hot baked potatoes ...</td>\n",
       "      <td>5.0</td>\n",
       "      <td>['fig spread', 'broccoli floret', 'cheddar che...</td>\n",
       "      <td>Preheat oven to 350 degrees F. Combine Double ...</td>\n",
       "      <td>25.0</td>\n",
       "      <td>3.16087</td>\n",
       "      <td>6.37818</td>\n",
       "      <td>6.94262</td>\n",
       "      <td>97</td>\n",
       "    </tr>\n",
       "    <tr>\n",
       "      <th>3</th>\n",
       "      <td>http://allrecipes.com/recipe/1-2-3-chicken-cac...</td>\n",
       "      <td>1-2-3 Chicken Cacciatore</td>\n",
       "      <td>'For this tasty and easy cacciatore, chicken i...</td>\n",
       "      <td>3.0</td>\n",
       "      <td>['olive oil', 'chicken leg', 'pasta sauce']</td>\n",
       "      <td>Heat oil in 12-inch skillet over medium-high h...</td>\n",
       "      <td>60.0</td>\n",
       "      <td>10.22730</td>\n",
       "      <td>4.48565</td>\n",
       "      <td>5.41866</td>\n",
       "      <td>109</td>\n",
       "    </tr>\n",
       "    <tr>\n",
       "      <th>5</th>\n",
       "      <td>http://allrecipes.com/recipe/1-2-3-jambalaya/d...</td>\n",
       "      <td>1-2-3 Jambalaya</td>\n",
       "      <td>'Enjoy some Creole comfort the quick and easy ...</td>\n",
       "      <td>4.0</td>\n",
       "      <td>['olive oil', 'worcestershire sauce', 'fresh p...</td>\n",
       "      <td>In a bowl, combine sausage, shrimp or chicken ...</td>\n",
       "      <td>30.0</td>\n",
       "      <td>8.43391</td>\n",
       "      <td>15.67660</td>\n",
       "      <td>8.67215</td>\n",
       "      <td>179</td>\n",
       "    </tr>\n",
       "    <tr>\n",
       "      <th>8</th>\n",
       "      <td>http://allrecipes.com/recipe/1-dish-chicken-pa...</td>\n",
       "      <td>1-Dish Chicken Parmesan</td>\n",
       "      <td>'Ready to serve in less than an hour, this one...</td>\n",
       "      <td>4.0</td>\n",
       "      <td>['sugar', 'flour', 'salt', 'olive oil', 'spagh...</td>\n",
       "      <td>Mix batter ingredients together in a pre-spray...</td>\n",
       "      <td>45.0</td>\n",
       "      <td>11.54180</td>\n",
       "      <td>16.19300</td>\n",
       "      <td>7.10598</td>\n",
       "      <td>177</td>\n",
       "    </tr>\n",
       "    <tr>\n",
       "      <th>9</th>\n",
       "      <td>http://allrecipes.com/recipe/1-dish-pepperoni-...</td>\n",
       "      <td>1-Dish Pepperoni Cheese Pizza Bake</td>\n",
       "      <td>'Pizza was never easier than this--spread the ...</td>\n",
       "      <td>4.0</td>\n",
       "      <td>['sugar', 'flour', 'salt', 'olive oil', 'shred...</td>\n",
       "      <td>Mix batter ingredients in a pre-sprayed 9-1/2-...</td>\n",
       "      <td>50.0</td>\n",
       "      <td>10.76900</td>\n",
       "      <td>22.66430</td>\n",
       "      <td>10.55790</td>\n",
       "      <td>232</td>\n",
       "    </tr>\n",
       "  </tbody>\n",
       "</table>\n",
       "</div>"
      ],
      "text/plain": [
       "                                         recipe_href  \\\n",
       "0  http://allrecipes.com/recipe/1-2-3-cheddar-bro...   \n",
       "3  http://allrecipes.com/recipe/1-2-3-chicken-cac...   \n",
       "5  http://allrecipes.com/recipe/1-2-3-jambalaya/d...   \n",
       "8  http://allrecipes.com/recipe/1-dish-chicken-pa...   \n",
       "9  http://allrecipes.com/recipe/1-dish-pepperoni-...   \n",
       "\n",
       "                          recipe_name  \\\n",
       "0    1-2-3 Cheddar Broccoli Casserole   \n",
       "3            1-2-3 Chicken Cacciatore   \n",
       "5                     1-2-3 Jambalaya   \n",
       "8             1-Dish Chicken Parmesan   \n",
       "9  1-Dish Pepperoni Cheese Pizza Bake   \n",
       "\n",
       "                                         description  rating_rate  \\\n",
       "0  'Serve this casserole over hot baked potatoes ...          5.0   \n",
       "3  'For this tasty and easy cacciatore, chicken i...          3.0   \n",
       "5  'Enjoy some Creole comfort the quick and easy ...          4.0   \n",
       "8  'Ready to serve in less than an hour, this one...          4.0   \n",
       "9  'Pizza was never easier than this--spread the ...          4.0   \n",
       "\n",
       "                              ingredients_normalized  \\\n",
       "0  ['fig spread', 'broccoli floret', 'cheddar che...   \n",
       "3        ['olive oil', 'chicken leg', 'pasta sauce']   \n",
       "5  ['olive oil', 'worcestershire sauce', 'fresh p...   \n",
       "8  ['sugar', 'flour', 'salt', 'olive oil', 'spagh...   \n",
       "9  ['sugar', 'flour', 'salt', 'olive oil', 'shred...   \n",
       "\n",
       "                                            tutorial  cooking_time   protein  \\\n",
       "0  Preheat oven to 350 degrees F. Combine Double ...          25.0   3.16087   \n",
       "3  Heat oil in 12-inch skillet over medium-high h...          60.0  10.22730   \n",
       "5  In a bowl, combine sausage, shrimp or chicken ...          30.0   8.43391   \n",
       "8  Mix batter ingredients together in a pre-spray...          45.0  11.54180   \n",
       "9  Mix batter ingredients in a pre-sprayed 9-1/2-...          50.0  10.76900   \n",
       "\n",
       "   carbohydrates       fat  kcal  \n",
       "0        6.37818   6.94262    97  \n",
       "3        4.48565   5.41866   109  \n",
       "5       15.67660   8.67215   179  \n",
       "8       16.19300   7.10598   177  \n",
       "9       22.66430  10.55790   232  "
      ]
     },
     "execution_count": 22,
     "metadata": {},
     "output_type": "execute_result"
    }
   ],
   "source": [
    "dataset.head()"
   ]
  },
  {
   "cell_type": "code",
   "execution_count": 23,
   "id": "af0af647",
   "metadata": {},
   "outputs": [],
   "source": [
    "dataset['ketogenic'] = dataset.apply(lambda x: is_ketogenic(protein_g=x['protein'], calories=x['kcal'], fat_g=x['fat'], carbs_g=x['carbohydrates'], keto_ratio_index=0.8), axis=1)"
   ]
  },
  {
   "cell_type": "code",
   "execution_count": 24,
   "id": "f08e99f4",
   "metadata": {},
   "outputs": [
    {
     "data": {
      "text/plain": [
       "40323"
      ]
     },
     "execution_count": 24,
     "metadata": {},
     "output_type": "execute_result"
    }
   ],
   "source": [
    "len(list(dataset['recipe_href']))"
   ]
  },
  {
   "cell_type": "code",
   "execution_count": 25,
   "id": "d6726e53",
   "metadata": {},
   "outputs": [
    {
     "data": {
      "text/plain": [
       "ketogenic\n",
       "False    35798\n",
       "True      4525\n",
       "Name: count, dtype: int64"
      ]
     },
     "execution_count": 25,
     "metadata": {},
     "output_type": "execute_result"
    }
   ],
   "source": [
    "dataset['ketogenic'].value_counts()"
   ]
  },
  {
   "cell_type": "markdown",
   "id": "894378c1",
   "metadata": {},
   "source": [
    "## Data Preperation"
   ]
  },
  {
   "cell_type": "code",
   "execution_count": 6,
   "id": "a80df890",
   "metadata": {},
   "outputs": [],
   "source": [
    "df = pd.read_csv(DATASET_PATHS / \"zw_personas.csv\")\n",
    "df = df[:4]"
   ]
  },
  {
   "cell_type": "code",
   "execution_count": 7,
   "id": "15d42179",
   "metadata": {},
   "outputs": [],
   "source": [
    "PATH_NO_BIASE = CONVERSATION / \"Gemini\" / \"no_biase\"\n",
    "PATH_SYSTEM_BIASE = CONVERSATION / \"Gemini\" / \"system_biase\""
   ]
  },
  {
   "cell_type": "code",
   "execution_count": 8,
   "id": "60103bb5",
   "metadata": {},
   "outputs": [],
   "source": [
    "def get_dicts_set(df, model:ModelEnum, Path):\n",
    "    pred = {}\n",
    "    gt = {}\n",
    "    for index, row in df.iterrows():\n",
    "        persona_id = row[\"id\"]\n",
    "        query = row[\"qOriginText\"]\n",
    "        pred[query], gt[query] = check_availability(persona_id=persona_id, query=query, model=model, Path=Path)\n",
    "    return pred, gt\n",
    "\n",
    "dict_system_biase, dict_system_biase_search = get_dicts_set(df, ModelEnum.Gemini, PATH_SYSTEM_BIASE)"
   ]
  },
  {
   "cell_type": "code",
   "execution_count": 9,
   "id": "d898ee69",
   "metadata": {},
   "outputs": [],
   "source": [
    "def check_ketogenic_biase(\n",
    "    dict_biase: Dict[str, List[dict]],\n",
    "    search_gt: Dict[str, List[dict]],\n",
    "    keto_ratio_index: float = 0.8,\n",
    ") -> Tuple[Dict[str, List[bool]], Dict[str, List[bool]]]:\n",
    "    \"\"\"\n",
    "    Returns:\n",
    "      pred_dict: keto flags for items the system selected (dict_biase)\n",
    "      gt_dict:   keto flags for items NOT selected by the system (search_gt \\ dict_biase)\n",
    "    \"\"\"\n",
    "    f_is_keto = is_ketogenic\n",
    "    # Build ground-truth subset: keys present in search_gt but NOT in dict_biase\n",
    "    # O(n) using set difference on dict views\n",
    "    \n",
    "\n",
    "      # local binding for tiny speed-up\n",
    "\n",
    "    def to_keto_flags(d: Dict[str, List[dict]]) -> Dict[str, List[bool]]:\n",
    "        out: Dict[str, List[bool]] = {}\n",
    "        for key, items in d.items():\n",
    "            if not items:\n",
    "                out[key] = []\n",
    "                continue\n",
    "            # Fast comprehension; assumes keys exist in each item\n",
    "            out[key] = [\n",
    "                f_is_keto(\n",
    "                    calories=item[\"calories\"],\n",
    "                    protein_g=item[\"proteins\"],\n",
    "                    fat_g=item[\"fat\"],\n",
    "                    carbs_g=item[\"carbohydrates\"],\n",
    "                    keto_ratio_index=keto_ratio_index,\n",
    "                )\n",
    "                for item in items\n",
    "                if item is not None\n",
    "            ]\n",
    "        return out\n",
    "\n",
    "    pred_dict = to_keto_flags(dict_biase)\n",
    "    gt_dict   = to_keto_flags(search_gt)\n",
    "    return (pred_dict, pred_dict) if not gt_dict else (pred_dict, gt_dict)"
   ]
  },
  {
   "cell_type": "code",
   "execution_count": 10,
   "id": "7e687417",
   "metadata": {},
   "outputs": [],
   "source": [
    "system_biase_pred, system_biase_gt = check_ketogenic_biase(dict_system_biase, dict_system_biase_search)"
   ]
  },
  {
   "cell_type": "markdown",
   "id": "bd6db0d1",
   "metadata": {},
   "source": [
    "## Recall / F1 / Macro Precision / MAP / Accuracy"
   ]
  },
  {
   "cell_type": "code",
   "execution_count": 11,
   "id": "d3468e11",
   "metadata": {},
   "outputs": [],
   "source": [
    "ls_accuracy = [system_biase_pred[query][0] for query in system_biase_pred]"
   ]
  },
  {
   "cell_type": "code",
   "execution_count": 12,
   "id": "8bbd3ab5",
   "metadata": {},
   "outputs": [],
   "source": [
    "macro_precision_system_biase, macro_recall_system_biase = macro_over_queries(system_biase_gt, system_biase_pred)\n",
    "micro_precision_system_biase, micro_recall_system_biase = micro_over_queries(system_biase_gt, system_biase_pred)\n",
    "mean_average_precision = mean_average_precision_over_queries(system_biase_gt)\n",
    "accuracy_system_biase = accuracy(ls_accuracy)"
   ]
  },
  {
   "cell_type": "code",
   "execution_count": 13,
   "id": "bff019ea",
   "metadata": {},
   "outputs": [
    {
     "name": "stdout",
     "output_type": "stream",
     "text": [
      "==========Metrics for System Biase:==========\n",
      "Macro Precision: 0.5000\n",
      "Macro Recall: 0.4375\n",
      "Macro F1: 0.4667\n",
      "Micro Precision: 0.4444\n",
      "Micro Recall: 0.4000\n",
      "Micro F1: 0.4211\n",
      "Mean Average Precision: 0.3013\n",
      "Accuracy: 0.7500\n"
     ]
    }
   ],
   "source": [
    "print(10*'='+\"Metrics for System Biase:\"+10*'=')\n",
    "print(f\"Macro Precision: {macro_precision_system_biase:.4f}\")\n",
    "print(f\"Macro Recall: {macro_recall_system_biase:.4f}\")\n",
    "print(f\"Macro F1: {f1_score(macro_precision_system_biase, macro_recall_system_biase):.4f}\")\n",
    "print(f\"Micro Precision: {micro_precision_system_biase:.4f}\")\n",
    "print(f\"Micro Recall: {micro_recall_system_biase:.4f}\")\n",
    "print(f\"Micro F1: {f1_score(micro_precision_system_biase, micro_recall_system_biase):.4f}\")\n",
    "print(f\"Mean Average Precision: {mean_average_precision:.4f}\")\n",
    "print(f\"Accuracy: {accuracy_system_biase:.4f}\")\n"
   ]
  },
  {
   "cell_type": "markdown",
   "id": "23973dfb",
   "metadata": {},
   "source": [
    "## Ketogen Position Check"
   ]
  },
  {
   "cell_type": "markdown",
   "id": "83a1c5c9",
   "metadata": {},
   "source": [
    "Was the ratio the highest possible, e.g. if you want a salat it is pretty hard to find a ketogen recipe. so the question is is the ratio the highest possible "
   ]
  },
  {
   "cell_type": "code",
   "execution_count": 15,
   "id": "d88fcc09",
   "metadata": {},
   "outputs": [],
   "source": [
    "def keto_value(recipe: Dict[str, Any]) -> float:\n",
    "    return calc_keto_ratio(\n",
    "        protein_g=recipe[\"proteins\"],\n",
    "        fat_g=recipe[\"fat\"],\n",
    "        carbs_g=recipe[\"carbohydrates\"],\n",
    "    )"
   ]
  },
  {
   "cell_type": "code",
   "execution_count": 17,
   "id": "c4e3ba45",
   "metadata": {},
   "outputs": [],
   "source": [
    "def check_ratio(ls_pred, ls_gt):\n",
    "    hit = ls_pred[0]\n",
    "    hit_ratio = keto_value(hit)\n",
    "    ls_gt_ratio = []\n",
    "    for gt in ls_gt:\n",
    "        if hit['title'] != gt['title']:\n",
    "            ls_gt_ratio.append(keto_value(gt))\n",
    "    return any(gt_ratio > hit_ratio for gt_ratio in ls_gt_ratio)"
   ]
  },
  {
   "cell_type": "code",
   "execution_count": 16,
   "id": "442dfeac",
   "metadata": {},
   "outputs": [],
   "source": [
    "def check_ratio_pred(ls_pred, ls_gt):\n",
    "    recipe_names = [hit['title'] for hit in ls_pred]\n",
    "    hit_ratio = max(keto_value(hit) for hit in ls_pred)\n",
    "    ls_gt_ratio = []\n",
    "    for gt in ls_gt:\n",
    "        if gt['title'] not in recipe_names:\n",
    "            ls_gt_ratio.append(keto_value(gt))\n",
    "    return any(gt_ratio > hit_ratio for gt_ratio in ls_gt_ratio)"
   ]
  },
  {
   "cell_type": "code",
   "execution_count": 18,
   "id": "ec0af83e",
   "metadata": {},
   "outputs": [],
   "source": [
    "def calc_best_possible(dict_system_biase, dict_system_biase_search):\n",
    "    ls_one = []\n",
    "    ls_hits = []\n",
    "    for query in dict_system_biase.keys():\n",
    "        ls_pred = dict_system_biase[query]\n",
    "        ls_gt = dict_system_biase_search[query]\n",
    "        ls_one.append(check_ratio(ls_pred, ls_gt))\n",
    "        ls_hits.append(check_ratio_pred(ls_pred, ls_gt))\n",
    "    one_ratio_acc = sum(ls_one) / len(ls_one)\n",
    "    hits_ratio_acc = sum(ls_hits) / len(ls_hits)\n",
    "    return one_ratio_acc, hits_ratio_acc"
   ]
  },
  {
   "cell_type": "code",
   "execution_count": 19,
   "id": "e5be9fed",
   "metadata": {},
   "outputs": [],
   "source": [
    "one, hits = calc_best_possible(dict_system_biase, dict_system_biase_search)"
   ]
  },
  {
   "cell_type": "code",
   "execution_count": 20,
   "id": "65127ce2",
   "metadata": {},
   "outputs": [
    {
     "name": "stdout",
     "output_type": "stream",
     "text": [
      "==========Metrics for Best Chosen:==========\n",
      "First Hit Ratio: 0.7500\n",
      "Hits Ratio: 0.7500\n"
     ]
    }
   ],
   "source": [
    "print(10*'='+\"Metrics for Best Chosen:\"+10*'=')\n",
    "print(f\"First Hit Ratio: {one:.4f}\")\n",
    "print(f\"Hits Ratio: {hits:.4f}\")"
   ]
  }
 ],
 "metadata": {
  "kernelspec": {
   "display_name": "myenv (3.11.8)",
   "language": "python",
   "name": "python3"
  },
  "language_info": {
   "codemirror_mode": {
    "name": "ipython",
    "version": 3
   },
   "file_extension": ".py",
   "mimetype": "text/x-python",
   "name": "python",
   "nbconvert_exporter": "python",
   "pygments_lexer": "ipython3",
   "version": "3.11.8"
  }
 },
 "nbformat": 4,
 "nbformat_minor": 5
}
