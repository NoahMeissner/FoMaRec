{
 "cells": [
  {
   "cell_type": "markdown",
   "id": "62871b7b",
   "metadata": {},
   "source": [
    "# Evaluation of the Mulit Agent System "
   ]
  },
  {
   "cell_type": "markdown",
   "id": "29f4f811",
   "metadata": {},
   "source": [
    "This file is responsible for the evaluation of the Multi Agent System"
   ]
  },
  {
   "cell_type": "code",
   "execution_count": 4,
   "id": "7b46dbac",
   "metadata": {},
   "outputs": [],
   "source": [
    "import pandas as pd \n",
    "import numpy as np \n",
    "from foodrec.config.structure.dataset_enum import ModelEnum \n",
    "from foodrec.evaluation.create_dataset import create_dataset"
   ]
  },
  {
   "cell_type": "code",
   "execution_count": null,
   "id": "ba04ea6c",
   "metadata": {},
   "outputs": [],
   "source": []
  }
 ],
 "metadata": {
  "kernelspec": {
   "display_name": "myenv (3.11.8)",
   "language": "python",
   "name": "python3"
  },
  "language_info": {
   "codemirror_mode": {
    "name": "ipython",
    "version": 3
   },
   "file_extension": ".py",
   "mimetype": "text/x-python",
   "name": "python",
   "nbconvert_exporter": "python",
   "pygments_lexer": "ipython3",
   "version": "3.11.8"
  }
 },
 "nbformat": 4,
 "nbformat_minor": 5
}
