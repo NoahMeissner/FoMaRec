{
 "cells": [
  {
   "cell_type": "markdown",
   "id": "62871b7b",
   "metadata": {},
   "source": [
    "# Evaluation of the Mulit Agent System "
   ]
  },
  {
   "cell_type": "markdown",
   "id": "29f4f811",
   "metadata": {},
   "source": [
    "This file is responsible for the evaluation of the Multi Agent System"
   ]
  },
  {
   "cell_type": "code",
   "execution_count": 2,
   "id": "7b46dbac",
   "metadata": {},
   "outputs": [],
   "source": [
    "import pandas as pd \n",
    "import numpy as np \n",
    "from foodrec.config.structure.dataset_enum import ModelEnum \n",
    "from foodrec.evaluation.create_dataset import create_dataset\n",
    "from foodrec.evaluation.is_ketogen import is_ketogenic\n",
    "from foodrec.config.structure.paths import CONVERSATION, DATASET_PATHS\n",
    "import json"
   ]
  },
  {
   "cell_type": "code",
   "execution_count": 3,
   "id": "a6fc0776",
   "metadata": {},
   "outputs": [],
   "source": [
    "def check_availability(persona_id: int, query: str, model: ModelEnum, Path = None):\n",
    "    query_stempt = query.replace(\" \", \"_\").lower()\n",
    "    id = f\"{persona_id}_{query_stempt}_{model.name}\"\n",
    "\n",
    "    filepath = Path / f\"{id}.jsonl\"\n",
    "    if not filepath.exists():\n",
    "        return None\n",
    "    \n",
    "    try:\n",
    "        with open(filepath, \"r\", encoding=\"utf-8\") as f:\n",
    "            for line in f:\n",
    "                line = line.strip()\n",
    "                if not line:\n",
    "                    continue\n",
    "                try:\n",
    "                    obj = json.loads(line)\n",
    "                except json.JSONDecodeError:\n",
    "                    continue  # kaputte Zeilen überspringen\n",
    "                if obj.get(\"role\") == \"assistant\":\n",
    "                    return obj.get(\"content\")\n",
    "    except:\n",
    "        return None\n",
    "    \n",
    "    return None\n"
   ]
  },
  {
   "cell_type": "markdown",
   "id": "894378c1",
   "metadata": {},
   "source": [
    "## Check if Ketogenic Gemini"
   ]
  },
  {
   "cell_type": "code",
   "execution_count": 7,
   "id": "a80df890",
   "metadata": {},
   "outputs": [],
   "source": [
    "df = pd.read_csv(DATASET_PATHS / \"zw_personas.csv\")\n",
    "df = df[:4]"
   ]
  },
  {
   "cell_type": "code",
   "execution_count": 8,
   "id": "15d42179",
   "metadata": {},
   "outputs": [],
   "source": [
    "PATH_NO_BIASE = CONVERSATION / \"Gemini\" / \"no_biase\"\n",
    "PATH_SYSTEM_BIASE = CONVERSATION / \"Gemini\" / \"system_biase\""
   ]
  },
  {
   "cell_type": "code",
   "execution_count": 11,
   "id": "60103bb5",
   "metadata": {},
   "outputs": [],
   "source": [
    "dict_no_biase = {}\n",
    "dict_system_biase = {}\n",
    "for index, row in df.iterrows():\n",
    "    persona_id = row[\"id\"]\n",
    "    query = row[\"qOriginText\"]\n",
    "    dict_no_biase[query] = check_availability(persona_id=persona_id, query=query, model=ModelEnum.Gemini, Path=PATH_NO_BIASE)\n",
    "    dict_system_biase[query] = check_availability(persona_id=persona_id, query=query, model=ModelEnum.Gemini, Path=PATH_SYSTEM_BIASE)"
   ]
  },
  {
   "cell_type": "code",
   "execution_count": 12,
   "id": "9026b09f",
   "metadata": {},
   "outputs": [
    {
     "data": {
      "text/plain": [
       "{'Recommend recipes which do not have ingredient evaporated milk?': [{'id': 55019,\n",
       "   'title': 'Chocolate Caramel Coconut Cookies (Slightly Better for You)',\n",
       "   'calories': 363,\n",
       "   'cuisine': 'central_europe',\n",
       "   'rating': 3.0,\n",
       "   'cooking_time': 25.0,\n",
       "   'ingredients': \"['butter', 'flour', 'salt', 'vanilla extract', 'baking soda', 'water', 'honey', 'caramel', 'cocoa powder', 'egg', 'sweetened coconut', 'prune']\",\n",
       "   'proteins': 4.8358,\n",
       "   'fat': 16.2345,\n",
       "   'carbohydrates': 54.2301,\n",
       "   'explanation': 'This recipe contains caramel, which the user likes. It is also high in fat and relatively low in carbohydrates compared to other recipes. It does not contain any disliked ingredients.'},\n",
       "  {'id': 26718,\n",
       "   'title': 'Choc-Oat Caramel Chewies',\n",
       "   'calories': 472,\n",
       "   'cuisine': 'central_europe',\n",
       "   'rating': 3.0,\n",
       "   'cooking_time': 45.0,\n",
       "   'ingredients': \"['flour', 'flour', 'salt', 'semi sweet chocolate morsel', 'baking soda', 'butter', 'nut', 'caramel ice cream topping', 'splenda brown sugar blend', 'old-fashioned oat']\",\n",
       "   'proteins': 6.99092,\n",
       "   'fat': 26.965,\n",
       "   'carbohydrates': 54.1796,\n",
       "   'explanation': 'This recipe contains caramel and is relatively high in fat. It does not contain any disliked ingredients.'},\n",
       "  {'id': 60975,\n",
       "   'title': 'Caramel Bars',\n",
       "   'calories': 455,\n",
       "   'cuisine': 'central_europe',\n",
       "   'rating': 3.0,\n",
       "   'cooking_time': 32.0,\n",
       "   'ingredients': \"['flour', 'salt', 'baking soda', 'semisweet chocolate chip', 'butter', 'brown sugar', 'rolled oat', 'walnut', 'heavy cream', 'caramel']\",\n",
       "   'proteins': 5.13182,\n",
       "   'fat': 25.4258,\n",
       "   'carbohydrates': 55.2837,\n",
       "   'explanation': 'This recipe contains caramel and is high in fat. It does not contain any disliked ingredients.'}],\n",
       " 'Could you recommend czech dishes which do not contain sirloin?': [{'id': 72099,\n",
       "   'title': 'Triestine Cevapcici',\n",
       "   'calories': 190,\n",
       "   'cuisine': 'central_europe',\n",
       "   'rating': 3.0,\n",
       "   'cooking_time': 47.0,\n",
       "   'ingredients': \"['garlic', 'black pepper', 'ground beef', 'seasoned salt', 'fresh parsley', 'nutmeg', 'egg', 'ground pork', 'red wine', 'paprika', 'olive oil']\",\n",
       "   'proteins': 15.4677,\n",
       "   'fat': 13.1241,\n",
       "   'carbohydrates': 0.937435,\n",
       "   'explanation': \"This recipe (Triestine Cevapcici) is Central European, which aligns with the user's cuisine preference. It's high in fat (13.12g) and relatively low in carbohydrates (0.94g). It does not contain sirloin or any disliked ingredients.\"},\n",
       "  {'id': 88761,\n",
       "   'title': 'Slovak Stuffed Cabbage',\n",
       "   'calories': 87,\n",
       "   'cuisine': 'central_europe',\n",
       "   'rating': 3.0,\n",
       "   'cooking_time': 120.0,\n",
       "   'ingredients': \"['white sugar', 'salt', 'garlic salt', 'water', 'ground beef', 'fresh parsley', 'onion', 'bacon', 'cooked brown rice', 'tomato', 'condensed tomato soup', 'black pepper', 'ground pork', 'cabbage', 'sauerkraut']\",\n",
       "   'proteins': 4.06863,\n",
       "   'fat': 5.73378,\n",
       "   'carbohydrates': 4.96404,\n",
       "   'explanation': 'This recipe (Slovak Stuffed Cabbage) is also Central European. While the fat content is lower (5.73g) than the first recipe, it is still relevant. The carbohydrate content is relatively low (4.96g). It does not contain sirloin or any disliked ingredients.'},\n",
       "  {'id': 78838,\n",
       "   'title': 'Eastern European Kotlety',\n",
       "   'calories': 204,\n",
       "   'cuisine': 'central_europe',\n",
       "   'rating': 3.0,\n",
       "   'cooking_time': 40.0,\n",
       "   'ingredients': \"['kosher salt', 'milk', 'garlic', 'lean ground beef', 'black pepper', 'vegetable shortening', 'egg', 'cracker crumb', 'yellow onion']\",\n",
       "   'proteins': 13.3672,\n",
       "   'fat': 11.2598,\n",
       "   'carbohydrates': 11.3802,\n",
       "   'explanation': \"This recipe (Eastern European Kotlety) is Central European. It has a moderate fat content (11.26g) and carbohydrate content (11.38g). It does not contain sirloin or any disliked ingredients. The recipe uses 'lean ground beef' which aligns with the user's preference for lean beef.\"}],\n",
       " 'Suggest  beef-ribs dishes that do not contain shiitake mushrooms?': [{'id': 37784,\n",
       "   'title': 'Short Ribs Braised with Mushrooms and Tomatoes',\n",
       "   'calories': 133,\n",
       "   'cuisine': 'central_europe',\n",
       "   'rating': 3.0,\n",
       "   'cooking_time': 150.0,\n",
       "   'ingredients': \"['salt', 'vegetable oil', 'onion', 'water', 'garlic', 'cayenne pepper', 'bay leaf', 'tomato sauce', 'dried rosemary', 'salt and pepper', 'beef broth', 'dried porcini mushroom', 'beef short rib']\",\n",
       "   'proteins': 6.06105,\n",
       "   'fat': 10.9834,\n",
       "   'carbohydrates': 2.31422,\n",
       "   'explanation': 'This recipe (Short Ribs Braised with Mushrooms and Tomatoes) is the only one that features beef ribs, and aligns with the request for high fat (10.98g) and low carbohydrates (2.31g). It also does not contain shiitake mushrooms, satisfying the allergy restriction. While it contains mushrooms, the user only specified shiitake mushrooms.'},\n",
       "  {'id': 67532,\n",
       "   'title': 'Mushroom Slow Cooker Roast Beef',\n",
       "   'calories': 116,\n",
       "   'cuisine': 'central_europe',\n",
       "   'rating': 3.0,\n",
       "   'cooking_time': 550.0,\n",
       "   'ingredients': \"['ground pepper', 'beer', 'fresh mushroom', 'onion soup mix', 'standing rib roast']\",\n",
       "   'proteins': 7.32623,\n",
       "   'fat': 8.43717,\n",
       "   'carbohydrates': 1.86158,\n",
       "   'explanation': 'This recipe (Mushroom Slow Cooker Roast Beef) contains beef and is high in fat (8.44g) and low in carbohydrates (1.86g). While it does not contain beef ribs, it is the closest to that ingredient of the remaining recipes. It also does not contain shiitake mushrooms, satisfying the allergy restriction. While it contains mushrooms, the user only specified shiitake mushrooms.'},\n",
       "  {'id': 42770,\n",
       "   'title': 'Saute of Beef with Wild Mushrooms',\n",
       "   'calories': 109,\n",
       "   'cuisine': 'central_europe',\n",
       "   'rating': 3.0,\n",
       "   'cooking_time': 65.0,\n",
       "   'ingredients': \"['flour', 'garlic', 'salt and pepper', 'butter', 'onion', 'beef stock', 'fresh thyme', 'red wine', 'beef steak', 'mixed mushroom']\",\n",
       "   'proteins': 10.0056,\n",
       "   'fat': 5.12849,\n",
       "   'carbohydrates': 2.31285,\n",
       "   'explanation': 'This recipe (Saute of Beef with Wild Mushrooms) contains beef and is low in carbohydrates (2.31g). It also does not contain shiitake mushrooms, satisfying the allergy restriction. While it contains mushrooms, the user only specified shiitake mushrooms. The fat content is relatively low (5.13g).'}],\n",
       " \"What are  puerto-rican dishes which don't consist of passion fruit pulp?\": [{'id': 'http://allrecipes.com/recipe/shrimp-avocado-melt/detail.aspx',\n",
       "   'title': 'Shrimp Avocado Melt',\n",
       "   'calories': 260.0,\n",
       "   'cuisine': 'latin_america',\n",
       "   'rating': 3.0,\n",
       "   'cooking_time': None,\n",
       "   'ingredients': [\"['ground pepper'\",\n",
       "    \"'cheddar cheese'\",\n",
       "    \"'garlic powder'\",\n",
       "    \"'sesame oil'\",\n",
       "    \"'green chily'\",\n",
       "    \"'avocado'\",\n",
       "    \"'pepperjack cheese'\",\n",
       "    \"'butter'\",\n",
       "    \"'shrimp'\",\n",
       "    \"'roasted cashew'\",\n",
       "    \"'low-carb tortilla']\"],\n",
       "   'proteins': 12.084,\n",
       "   'fat': 21.3896,\n",
       "   'carbohydrates': 7.93323,\n",
       "   'explanation': \"This recipe is Puerto Rican (Latin American cuisine), vegetarian-friendly (since it contains shrimp, which is allowed). It is high in fat (21.39g) and relatively low in carbohydrates (7.93g). It does not contain passion fruit. It also aligns with the user's request for high-fat, low-carbohydrate options.\"},\n",
       "  {'id': 'http://allrecipes.com/recipe/7-layer-meatless-tortilla-pie/detail.aspx',\n",
       "   'title': '7-Layer Meatless Tortilla Pie',\n",
       "   'calories': 136.0,\n",
       "   'cuisine': 'latin_america',\n",
       "   'rating': 3.0,\n",
       "   'cooking_time': None,\n",
       "   'ingredients': [\"['cheddar cheese'\",\n",
       "    \"'garlic powder'\",\n",
       "    \"'fresh cilantro'\",\n",
       "    \"'picante sauce'\",\n",
       "    \"'tomato'\",\n",
       "    \"'pinto bean'\",\n",
       "    \"'flour tortilla'\",\n",
       "    \"'black bean']\"],\n",
       "   'proteins': 5.98937,\n",
       "   'fat': 5.37191,\n",
       "   'carbohydrates': 15.6835,\n",
       "   'explanation': \"This recipe is Puerto Rican (Latin American cuisine), vegetarian-friendly. It is relatively high in fat (5.37g) and low in carbohydrates (15.68g). It does not contain passion fruit. While not as high in fat as the Shrimp Avocado Melt, it's a suitable vegetarian option that meets the low-carb requirement better than other recipes.\"},\n",
       "  {'id': 'http://allrecipes.com/recipe/vegan-fajitas/detail.aspx',\n",
       "   'title': 'Vegan Fajitas',\n",
       "   'calories': 62.0,\n",
       "   'cuisine': 'latin_america',\n",
       "   'rating': 3.0,\n",
       "   'cooking_time': None,\n",
       "   'ingredients': [\"['white sugar'\",\n",
       "    \"'salt and pepper'\",\n",
       "    \"'onion'\",\n",
       "    \"'chili powder'\",\n",
       "    \"'olive oil'\",\n",
       "    \"'olive oil'\",\n",
       "    \"'dried oregano'\",\n",
       "    \"'red wine vinegar'\",\n",
       "    \"'whole kernel corn'\",\n",
       "    \"'garlic salt'\",\n",
       "    \"'black bean'\",\n",
       "    \"'red bell pepper'\",\n",
       "    \"'green bell pepper'\",\n",
       "    \"'zucchini'\",\n",
       "    \"'yellow squash']\"],\n",
       "   'proteins': 0.946943,\n",
       "   'fat': 4.54533,\n",
       "   'carbohydrates': 5.65009,\n",
       "   'explanation': \"This recipe is Puerto Rican (Latin American cuisine), vegetarian-friendly. It is relatively high in fat (4.54g) and low in carbohydrates (5.65g). It does not contain passion fruit. While not as high in fat as the Shrimp Avocado Melt, it's a suitable vegetarian option and meets the low-carb requirement.\"}]}"
      ]
     },
     "execution_count": 12,
     "metadata": {},
     "output_type": "execute_result"
    }
   ],
   "source": [
    "dict_system_biase"
   ]
  },
  {
   "cell_type": "code",
   "execution_count": null,
   "id": "d898ee69",
   "metadata": {},
   "outputs": [
    {
     "ename": "AttributeError",
     "evalue": "'list' object has no attribute 'items'",
     "output_type": "error",
     "traceback": [
      "\u001b[31m---------------------------------------------------------------------------\u001b[39m",
      "\u001b[31mAttributeError\u001b[39m                            Traceback (most recent call last)",
      "\u001b[36mCell\u001b[39m\u001b[36m \u001b[39m\u001b[32mIn[13]\u001b[39m\u001b[32m, line 10\u001b[39m\n\u001b[32m      7\u001b[39m         res_dict[key] = ls\n\u001b[32m      8\u001b[39m     \u001b[38;5;28;01mreturn\u001b[39;00m res_dict\n\u001b[32m---> \u001b[39m\u001b[32m10\u001b[39m dict_no_biase_ketogenic = \u001b[43mcheck_ketogenic_biase\u001b[49m\u001b[43m(\u001b[49m\u001b[43mdict_no_biase\u001b[49m\u001b[43m)\u001b[49m\n\u001b[32m     11\u001b[39m dict_system_biase_ketogenic = check_ketogenic_biase(dict_system_biase)\n",
      "\u001b[36mCell\u001b[39m\u001b[36m \u001b[39m\u001b[32mIn[13]\u001b[39m\u001b[32m, line 5\u001b[39m, in \u001b[36mcheck_ketogenic_biase\u001b[39m\u001b[34m(dict_biase)\u001b[39m\n\u001b[32m      3\u001b[39m \u001b[38;5;28;01mfor\u001b[39;00m key, val \u001b[38;5;129;01min\u001b[39;00m dict_biase.items():\n\u001b[32m      4\u001b[39m     ls = []\n\u001b[32m----> \u001b[39m\u001b[32m5\u001b[39m     \u001b[38;5;28;01mfor\u001b[39;00m k, v \u001b[38;5;129;01min\u001b[39;00m \u001b[43mval\u001b[49m\u001b[43m.\u001b[49m\u001b[43mitems\u001b[49m():\n\u001b[32m      6\u001b[39m         ls.append(is_ketogenic(v))\n\u001b[32m      7\u001b[39m     res_dict[key] = ls\n",
      "\u001b[31mAttributeError\u001b[39m: 'list' object has no attribute 'items'"
     ]
    }
   ],
   "source": [
    "def check_ketogenic_biase(dict_biase):\n",
    "    res_dict = {}\n",
    "    for key, val in dict_biase.items():\n",
    "        ls = []\n",
    "        for v in val:\n",
    "            calories = v['calories']\n",
    "            protein = v['proteins']\n",
    "            fat = v['fats']\n",
    "            carbs = v['carbohydrates']\n",
    "            if is_ketogenic(calories=calories, protein_g=protein, fat_g=fat, carbs_g=carbs):\n",
    "                ls.append(v)\n",
    "        res_dict[key] = ls\n",
    "    return res_dict\n",
    "\n",
    "dict_no_biase_ketogenic = check_ketogenic_biase(dict_no_biase)\n",
    "dict_system_biase_ketogenic = check_ketogenic_biase(dict_system_biase)"
   ]
  },
  {
   "cell_type": "code",
   "execution_count": null,
   "id": "ba04ea6c",
   "metadata": {},
   "outputs": [],
   "source": [
    "# TODO checken ob die ketogen sind dann bekommen wir ne liste mit true false true false "
   ]
  },
  {
   "cell_type": "code",
   "execution_count": null,
   "id": "75c88761",
   "metadata": {},
   "outputs": [],
   "source": [
    "# TODO wie berechne ich den recall, weil im grunde ja was ist in dem fall relevantes dokument?"
   ]
  },
  {
   "cell_type": "code",
   "execution_count": null,
   "id": "0948803a",
   "metadata": {},
   "outputs": [],
   "source": [
    "# TODO wie kann ich dann f1 scores vergleichen"
   ]
  }
 ],
 "metadata": {
  "kernelspec": {
   "display_name": "myenv (3.11.8)",
   "language": "python",
   "name": "python3"
  },
  "language_info": {
   "codemirror_mode": {
    "name": "ipython",
    "version": 3
   },
   "file_extension": ".py",
   "mimetype": "text/x-python",
   "name": "python",
   "nbconvert_exporter": "python",
   "pygments_lexer": "ipython3",
   "version": "3.11.8"
  }
 },
 "nbformat": 4,
 "nbformat_minor": 5
}
